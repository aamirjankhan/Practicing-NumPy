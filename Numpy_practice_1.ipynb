{
 "cells": [
  {
   "cell_type": "code",
   "execution_count": 1,
   "metadata": {},
   "outputs": [],
   "source": [
    "import numpy as np\n",
    "np.random.seed(1)"
   ]
  },
  {
   "cell_type": "code",
   "execution_count": 19,
   "metadata": {},
   "outputs": [
    {
     "data": {
      "text/plain": [
       "array([[-0.00226314,  0.01331457, -0.00287308,  0.0068007 , -0.00319802],\n",
       "       [-0.01272559,  0.00313548,  0.00503185,  0.01293226, -0.00110447],\n",
       "       [-0.00617362,  0.00562761,  0.00240737,  0.00280665, -0.00073113],\n",
       "       [ 0.01160339,  0.00369493,  0.01904659,  0.01111057,  0.0065905 ],\n",
       "       [-0.01627438,  0.00602319,  0.00420282,  0.00810952,  0.01044442]])"
      ]
     },
     "execution_count": 19,
     "metadata": {},
     "output_type": "execute_result"
    }
   ],
   "source": [
    "np.random.randn(5,5)* 0.01"
   ]
  },
  {
   "cell_type": "code",
   "execution_count": 7,
   "metadata": {},
   "outputs": [
    {
     "data": {
      "text/plain": [
       "array([[0., 0., 0., 0., 0.],\n",
       "       [0., 0., 0., 0., 0.],\n",
       "       [0., 0., 0., 0., 0.],\n",
       "       [0., 0., 0., 0., 0.],\n",
       "       [0., 0., 0., 0., 0.]])"
      ]
     },
     "execution_count": 7,
     "metadata": {},
     "output_type": "execute_result"
    }
   ],
   "source": [
    "np.zeros((5,5))"
   ]
  },
  {
   "cell_type": "code",
   "execution_count": 6,
   "metadata": {},
   "outputs": [],
   "source": [
    "x= np.random.randn(10,10)"
   ]
  },
  {
   "cell_type": "code",
   "execution_count": 7,
   "metadata": {},
   "outputs": [
    {
     "data": {
      "text/plain": [
       "array([[ 1.46210794, -2.06014071, -0.3224172 , -0.38405435,  1.13376944,\n",
       "        -1.09989127, -0.17242821, -0.87785842,  0.04221375,  0.58281521],\n",
       "       [-1.10061918,  1.14472371,  0.90159072,  0.50249434,  0.90085595,\n",
       "        -0.68372786, -0.12289023, -0.93576943, -0.26788808,  0.53035547],\n",
       "       [-0.69166075, -0.39675353, -0.6871727 , -0.84520564, -0.67124613,\n",
       "        -0.0126646 , -1.11731035,  0.2344157 ,  1.65980218,  0.74204416],\n",
       "       [-0.19183555, -0.88762896, -0.74715829,  1.6924546 ,  0.05080775,\n",
       "        -0.63699565,  0.19091548,  2.10025514,  0.12015895,  0.61720311],\n",
       "       [ 0.30017032, -0.35224985, -1.1425182 , -0.34934272, -0.20889423,\n",
       "         0.58662319,  0.83898341,  0.93110208,  0.28558733,  0.88514116],\n",
       "       [-0.75439794,  1.25286816,  0.51292982, -0.29809284,  0.48851815,\n",
       "        -0.07557171,  1.13162939,  1.51981682,  2.18557541, -1.39649634],\n",
       "       [-1.44411381, -0.50446586,  0.16003707,  0.87616892,  0.31563495,\n",
       "        -2.02220122, -0.30620401,  0.82797464,  0.23009474,  0.76201118],\n",
       "       [-0.22232814, -0.20075807,  0.18656139,  0.41005165,  0.19829972,\n",
       "         0.11900865, -0.67066229,  0.37756379,  0.12182127,  1.12948391],\n",
       "       [ 1.19891788,  0.18515642, -0.37528495, -0.63873041,  0.42349435,\n",
       "         0.07734007, -0.34385368,  0.04359686, -0.62000084,  0.69803203],\n",
       "       [-0.44712856,  1.2245077 ,  0.40349164,  0.59357852, -1.09491185,\n",
       "         0.16938243,  0.74055645, -0.9537006 , -0.26621851,  0.03261455]])"
      ]
     },
     "execution_count": 7,
     "metadata": {},
     "output_type": "execute_result"
    }
   ],
   "source": [
    "x"
   ]
  },
  {
   "cell_type": "code",
   "execution_count": 8,
   "metadata": {},
   "outputs": [
    {
     "data": {
      "text/plain": [
       "array([[-1.10061918,  1.14472371,  0.90159072,  0.50249434,  0.90085595,\n",
       "        -0.68372786, -0.12289023, -0.93576943, -0.26788808,  0.53035547],\n",
       "       [-0.19183555, -0.88762896, -0.74715829,  1.6924546 ,  0.05080775,\n",
       "        -0.63699565,  0.19091548,  2.10025514,  0.12015895,  0.61720311],\n",
       "       [-0.75439794,  1.25286816,  0.51292982, -0.29809284,  0.48851815,\n",
       "        -0.07557171,  1.13162939,  1.51981682,  2.18557541, -1.39649634],\n",
       "       [-0.22232814, -0.20075807,  0.18656139,  0.41005165,  0.19829972,\n",
       "         0.11900865, -0.67066229,  0.37756379,  0.12182127,  1.12948391],\n",
       "       [-0.44712856,  1.2245077 ,  0.40349164,  0.59357852, -1.09491185,\n",
       "         0.16938243,  0.74055645, -0.9537006 , -0.26621851,  0.03261455]])"
      ]
     },
     "execution_count": 8,
     "metadata": {},
     "output_type": "execute_result"
    }
   ],
   "source": [
    "x[1:10:2, ::]"
   ]
  },
  {
   "cell_type": "code",
   "execution_count": null,
   "metadata": {},
   "outputs": [],
   "source": [
    "np.sqrt\n",
    "np.power\n",
    "np.ceil\n",
    "np.cfloat\n",
    "np.maximum"
   ]
  },
  {
   "cell_type": "markdown",
   "metadata": {},
   "source": [
    "# default values addition"
   ]
  },
  {
   "cell_type": "code",
   "execution_count": 9,
   "metadata": {},
   "outputs": [],
   "source": [
    "salary= np.array([0,-1,25000,50000,100000,200000])\n"
   ]
  },
  {
   "cell_type": "code",
   "execution_count": 14,
   "metadata": {},
   "outputs": [
    {
     "data": {
      "text/plain": [
       "array([ 10000,  10000,  25000,  50000, 100000, 200000])"
      ]
     },
     "execution_count": 14,
     "metadata": {},
     "output_type": "execute_result"
    }
   ],
   "source": [
    "np.where(salary<=0, 10000, salary)"
   ]
  },
  {
   "cell_type": "markdown",
   "metadata": {},
   "source": [
    "# statistical functions"
   ]
  },
  {
   "cell_type": "markdown",
   "metadata": {},
   "source": [
    "numpy.amin() and numpy.amax()\n",
    "\n",
    "These functions return the minimum and the maximum from the elements in the given array along the specified axis."
   ]
  },
  {
   "cell_type": "code",
   "execution_count": 26,
   "metadata": {},
   "outputs": [
    {
     "data": {
      "text/plain": [
       "array([[3, 7, 5],\n",
       "       [8, 4, 3],\n",
       "       [2, 4, 9]])"
      ]
     },
     "execution_count": 26,
     "metadata": {},
     "output_type": "execute_result"
    }
   ],
   "source": [
    "a = np.array([[3,7,5],[8,4,3],[2,4,9]]) \n",
    "a"
   ]
  },
  {
   "cell_type": "code",
   "execution_count": 27,
   "metadata": {},
   "outputs": [
    {
     "name": "stdout",
     "output_type": "stream",
     "text": [
      "[3 3 2]\n"
     ]
    }
   ],
   "source": [
    "print(np.amin(a,1)) "
   ]
  },
  {
   "cell_type": "code",
   "execution_count": 28,
   "metadata": {},
   "outputs": [
    {
     "name": "stdout",
     "output_type": "stream",
     "text": [
      "[2 4 3]\n"
     ]
    }
   ],
   "source": [
    "print(np.amin(a,0)) "
   ]
  },
  {
   "cell_type": "code",
   "execution_count": 29,
   "metadata": {},
   "outputs": [
    {
     "name": "stdout",
     "output_type": "stream",
     "text": [
      "9\n"
     ]
    }
   ],
   "source": [
    "print(np.amax(a))"
   ]
  },
  {
   "cell_type": "code",
   "execution_count": 31,
   "metadata": {},
   "outputs": [
    {
     "name": "stdout",
     "output_type": "stream",
     "text": [
      "[8 7 9]\n"
     ]
    }
   ],
   "source": [
    "print(np.amax(a, axis = 0))"
   ]
  },
  {
   "cell_type": "code",
   "execution_count": 18,
   "metadata": {},
   "outputs": [
    {
     "name": "stdout",
     "output_type": "stream",
     "text": [
      "Our array is:\n",
      "[[3 7 5]\n",
      " [8 4 3]\n",
      " [2 4 9]]\n",
      "\n",
      "\n",
      "Applying amin() function:\n",
      "[3 3 2]\n",
      "\n",
      "\n",
      "Applying amin() function again:\n",
      "[2 4 3]\n",
      "\n",
      "\n",
      "Applying amax() function:\n",
      "9\n",
      "\n",
      "\n",
      "Applying amax() function again:\n",
      "[8 7 9]\n"
     ]
    }
   ],
   "source": [
    "#Live Demo\n",
    "\n",
    "import numpy as np \n",
    "a = np.array([[3,7,5],[8,4,3],[2,4,9]]) \n",
    "\n",
    "print('Our array is:') \n",
    "print(a)  \n",
    "print('\\n')  \n",
    "\n",
    "print('Applying amin() function:') \n",
    "print(np.amin(a,1)) \n",
    "print('\\n')  \n",
    "\n",
    "print('Applying amin() function again:') \n",
    "print(np.amin(a,0)) \n",
    "print('\\n')  \n",
    "\n",
    "print('Applying amax() function:') \n",
    "print(np.amax(a)) \n",
    "print('\\n')  \n",
    "\n",
    "print('Applying amax() function again:') \n",
    "print(np.amax(a, axis = 0))"
   ]
  },
  {
   "cell_type": "markdown",
   "metadata": {},
   "source": [
    "The numpy.ptp() function returns the range (maximum-minimum) of values along an axis."
   ]
  },
  {
   "cell_type": "code",
   "execution_count": null,
   "metadata": {},
   "outputs": [],
   "source": [
    "np.mean\n",
    "np.cumsum\n",
    "np.cumprod\n",
    "np.sum\n",
    "np.any #just one true or not\n",
    "np.all #all true or not\n",
    "np.sort\n",
    "np.unique"
   ]
  },
  {
   "cell_type": "markdown",
   "metadata": {},
   "source": [
    "numpy.percentile()\n",
    "\n",
    "Percentile (or a centile) is a measure used in statistics indicating the value below which a given percentage of observations in a group of observations fall. The function numpy.percentile() takes the following arguments."
   ]
  },
  {
   "cell_type": "code",
   "execution_count": 33,
   "metadata": {},
   "outputs": [
    {
     "data": {
      "text/plain": [
       "array([[30, 40, 70],\n",
       "       [80, 20, 10],\n",
       "       [50, 90, 60]])"
      ]
     },
     "execution_count": 33,
     "metadata": {},
     "output_type": "execute_result"
    }
   ],
   "source": [
    "a = np.array([[30,40,70],[80,20,10],[50,90,60]])\n",
    "a"
   ]
  },
  {
   "cell_type": "code",
   "execution_count": 35,
   "metadata": {},
   "outputs": [
    {
     "name": "stdout",
     "output_type": "stream",
     "text": [
      "50.0\n"
     ]
    }
   ],
   "source": [
    "print(np.percentile(a,50)) "
   ]
  },
  {
   "cell_type": "code",
   "execution_count": 36,
   "metadata": {},
   "outputs": [
    {
     "name": "stdout",
     "output_type": "stream",
     "text": [
      "[40. 20. 60.]\n"
     ]
    }
   ],
   "source": [
    "print(np.percentile(a,50, axis = 1)) "
   ]
  },
  {
   "cell_type": "code",
   "execution_count": 38,
   "metadata": {},
   "outputs": [
    {
     "name": "stdout",
     "output_type": "stream",
     "text": [
      "[50. 40. 60.]\n"
     ]
    }
   ],
   "source": [
    "print(np.percentile(a,50, axis = 0))"
   ]
  },
  {
   "cell_type": "markdown",
   "metadata": {},
   "source": [
    "numpy.median()\n",
    "\n",
    "Median is defined as the value separating the higher half of a data sample from the lower half. The numpy.median() function is used as shown in the following program."
   ]
  },
  {
   "cell_type": "markdown",
   "metadata": {},
   "source": [
    "numpy.mean()\n",
    "\n",
    "Arithmetic mean is the sum of elements along an axis divided by the number of elements. The numpy.mean() function returns the arithmetic mean of elements in the array. If the axis is mentioned, it is calculated along it."
   ]
  },
  {
   "cell_type": "markdown",
   "metadata": {},
   "source": [
    "numpy.average()\n",
    "\n",
    "1. Weighted average is an average resulting from the multiplication of each component by a factor reflecting its importance. The numpy.average() function computes the weighted average of elements in an array according to their respective weight given in another array. The function can have an axis parameter. If the axis is not specified, the array is flattened.\n",
    "\n",
    "2. Considering an array [1,2,3,4] and corresponding weights [4,3,2,1], the weighted average is calculated by adding the product of the corresponding elements and dividing the sum by the sum of weights.\n",
    "\n",
    "3. Weighted average = (1*4+2*3+3*2+4*1)/(4+3+2+1)"
   ]
  },
  {
   "cell_type": "markdown",
   "metadata": {},
   "source": [
    "standard deviation\n",
    "    1. std = sqrt(mean(abs(x - x.mean())**2))"
   ]
  },
  {
   "cell_type": "markdown",
   "metadata": {},
   "source": [
    "varience"
   ]
  },
  {
   "cell_type": "markdown",
   "metadata": {},
   "source": [
    "Variance\n",
    "\n",
    "Variance is the average of squared deviations, i.e., mean(abs(x - x.mean())**2). In other words, the standard deviation is the square root of variance."
   ]
  },
  {
   "cell_type": "code",
   "execution_count": 40,
   "metadata": {},
   "outputs": [
    {
     "name": "stdout",
     "output_type": "stream",
     "text": [
      "1.25\n"
     ]
    }
   ],
   "source": [
    "print(np.var([1,2,3,4]))"
   ]
  },
  {
   "cell_type": "markdown",
   "metadata": {},
   "source": [
    "# file saving"
   ]
  },
  {
   "cell_type": "code",
   "execution_count": null,
   "metadata": {},
   "outputs": [],
   "source": [
    "np.save('filename',array)\n",
    "np.savez('filename', array1, array2, so on)\n",
    "np.load('filename')"
   ]
  },
  {
   "cell_type": "code",
   "execution_count": 4,
   "metadata": {},
   "outputs": [
    {
     "data": {
      "text/plain": [
       "array([[-0.44712856,  1.2245077 ,  0.40349164,  0.59357852, -1.09491185,\n",
       "         0.16938243,  0.74055645, -0.9537006 , -0.26621851,  0.03261455],\n",
       "       [-1.37311732,  0.31515939,  0.84616065, -0.85951594,  0.35054598,\n",
       "        -1.31228341, -0.03869551, -1.61577235,  1.12141771,  0.40890054],\n",
       "       [-0.02461696, -0.77516162,  1.27375593,  1.96710175, -1.85798186,\n",
       "         1.23616403,  1.62765075,  0.3380117 , -1.19926803,  0.86334532],\n",
       "       [-0.1809203 , -0.60392063, -1.23005814,  0.5505375 ,  0.79280687,\n",
       "        -0.62353073,  0.52057634, -1.14434139,  0.80186103,  0.0465673 ],\n",
       "       [-0.18656977, -0.10174587,  0.86888616,  0.75041164,  0.52946532,\n",
       "         0.13770121,  0.07782113,  0.61838026,  0.23249456,  0.68255141],\n",
       "       [-0.31011677, -2.43483776,  1.0388246 ,  2.18697965,  0.44136444,\n",
       "        -0.10015523, -0.13644474, -0.11905419,  0.01740941, -1.12201873],\n",
       "       [-0.51709446, -0.99702683,  0.24879916, -0.29664115,  0.49521132,\n",
       "        -0.17470316,  0.98633519,  0.2135339 ,  2.19069973, -1.89636092],\n",
       "       [-0.64691669,  0.90148689,  2.52832571, -0.24863478,  0.04366899,\n",
       "        -0.22631424,  1.33145711, -0.28730786,  0.68006984, -0.3198016 ],\n",
       "       [-1.27255876,  0.31354772,  0.50318481,  1.29322588, -0.11044703,\n",
       "        -0.61736206,  0.5627611 ,  0.24073709,  0.28066508, -0.0731127 ],\n",
       "       [ 1.16033857,  0.36949272,  1.90465871,  1.1110567 ,  0.6590498 ,\n",
       "        -1.62743834,  0.60231928,  0.4202822 ,  0.81095167,  1.04444209]])"
      ]
     },
     "execution_count": 4,
     "metadata": {},
     "output_type": "execute_result"
    }
   ],
   "source": [
    "array= np.random.randn(10,10)\n",
    "array"
   ]
  },
  {
   "cell_type": "code",
   "execution_count": 7,
   "metadata": {},
   "outputs": [],
   "source": [
    "np.save('array1',array)"
   ]
  },
  {
   "cell_type": "code",
   "execution_count": 11,
   "metadata": {},
   "outputs": [
    {
     "data": {
      "text/plain": [
       "array([[-0.44712856,  1.2245077 ,  0.40349164,  0.59357852, -1.09491185,\n",
       "         0.16938243,  0.74055645, -0.9537006 , -0.26621851,  0.03261455],\n",
       "       [-1.37311732,  0.31515939,  0.84616065, -0.85951594,  0.35054598,\n",
       "        -1.31228341, -0.03869551, -1.61577235,  1.12141771,  0.40890054],\n",
       "       [-0.02461696, -0.77516162,  1.27375593,  1.96710175, -1.85798186,\n",
       "         1.23616403,  1.62765075,  0.3380117 , -1.19926803,  0.86334532],\n",
       "       [-0.1809203 , -0.60392063, -1.23005814,  0.5505375 ,  0.79280687,\n",
       "        -0.62353073,  0.52057634, -1.14434139,  0.80186103,  0.0465673 ],\n",
       "       [-0.18656977, -0.10174587,  0.86888616,  0.75041164,  0.52946532,\n",
       "         0.13770121,  0.07782113,  0.61838026,  0.23249456,  0.68255141],\n",
       "       [-0.31011677, -2.43483776,  1.0388246 ,  2.18697965,  0.44136444,\n",
       "        -0.10015523, -0.13644474, -0.11905419,  0.01740941, -1.12201873],\n",
       "       [-0.51709446, -0.99702683,  0.24879916, -0.29664115,  0.49521132,\n",
       "        -0.17470316,  0.98633519,  0.2135339 ,  2.19069973, -1.89636092],\n",
       "       [-0.64691669,  0.90148689,  2.52832571, -0.24863478,  0.04366899,\n",
       "        -0.22631424,  1.33145711, -0.28730786,  0.68006984, -0.3198016 ],\n",
       "       [-1.27255876,  0.31354772,  0.50318481,  1.29322588, -0.11044703,\n",
       "        -0.61736206,  0.5627611 ,  0.24073709,  0.28066508, -0.0731127 ],\n",
       "       [ 1.16033857,  0.36949272,  1.90465871,  1.1110567 ,  0.6590498 ,\n",
       "        -1.62743834,  0.60231928,  0.4202822 ,  0.81095167,  1.04444209]])"
      ]
     },
     "execution_count": 11,
     "metadata": {},
     "output_type": "execute_result"
    }
   ],
   "source": [
    "np.load('array1.npy')"
   ]
  },
  {
   "cell_type": "code",
   "execution_count": 15,
   "metadata": {},
   "outputs": [],
   "source": [
    "array1, array2, array3= np.random.randn(4,3), np.random.randn(4,4), np.random.randn(2,3)"
   ]
  },
  {
   "cell_type": "code",
   "execution_count": 17,
   "metadata": {},
   "outputs": [],
   "source": [
    "np.savez('array2',array1, array2, array3)"
   ]
  },
  {
   "cell_type": "code",
   "execution_count": 24,
   "metadata": {},
   "outputs": [],
   "source": [
    "var1, var2, var3= np.load('array2.npz')"
   ]
  },
  {
   "cell_type": "code",
   "execution_count": 25,
   "metadata": {},
   "outputs": [
    {
     "data": {
      "text/plain": [
       "'arr_0'"
      ]
     },
     "execution_count": 25,
     "metadata": {},
     "output_type": "execute_result"
    }
   ],
   "source": []
  },
  {
   "cell_type": "code",
   "execution_count": null,
   "metadata": {},
   "outputs": [],
   "source": []
  },
  {
   "cell_type": "markdown",
   "metadata": {},
   "source": [
    "# linear algebra"
   ]
  },
  {
   "cell_type": "markdown",
   "metadata": {},
   "source": [
    "1. Numpy | Linear Algebra\n",
    "\n",
    "2. The Linear Algebra module of NumPy offers various methods to apply linear algebra on any numpy array.\n",
    "One can find:\n",
    "\n",
    "    1. rank, determinant, trace, etc. of an array.\n",
    "    2. eigen values of matrices\n",
    "    3. matrix and vector products (dot, inner, outer,etc. product), matrix exponentiation\n",
    "    4. solve linear or tensor equations and much more!\n"
   ]
  },
  {
   "cell_type": "code",
   "execution_count": 43,
   "metadata": {},
   "outputs": [
    {
     "name": "stdout",
     "output_type": "stream",
     "text": [
      "Rank of A: 3\n",
      "\n",
      "Trace of A: 11\n",
      "\n",
      "Determinant of A: -306.0\n",
      "\n",
      "Inverse of A:\n",
      " [[ 0.17647059 -0.00326797 -0.02287582]\n",
      " [ 0.05882353 -0.13071895  0.08496732]\n",
      " [-0.11764706  0.1503268   0.05228758]]\n",
      "\n",
      "Matrix A raised to power 3:\n",
      " [[336 162 228]\n",
      " [406 162 469]\n",
      " [698 702 905]]\n"
     ]
    }
   ],
   "source": [
    "import numpy as np\n",
    " \n",
    "A = np.array([[6, 1, 1],\n",
    "              [4, -2, 5],\n",
    "              [2, 8, 7]])\n",
    " \n",
    "# Rank of a matrix\n",
    "print(\"Rank of A:\", np.linalg.matrix_rank(A))\n",
    " \n",
    "# Trace of matrix A\n",
    "print(\"\\nTrace of A:\", np.trace(A))\n",
    " \n",
    "# Determinant of a matrix\n",
    "print(\"\\nDeterminant of A:\", np.linalg.det(A))\n",
    " \n",
    "# Inverse of matrix A\n",
    "print(\"\\nInverse of A:\\n\", np.linalg.inv(A))\n",
    " \n",
    "print(\"\\nMatrix A raised to power 3:\\n\",\n",
    "           np.linalg.matrix_power(A, 3))"
   ]
  },
  {
   "cell_type": "markdown",
   "metadata": {},
   "source": [
    "numpy.linalg.eigh(a, UPLO=’L’) : This function is used to return the eigenvalues and eigenvectors of a complex Hermitian (conjugate symmetric) or a real symmetric matrix.Returns two objects, a 1-D array containing the eigenvalues of a, and a 2-D square array or matrix (depending on the input type) of the corresponding eigenvectors (in columns)."
   ]
  },
  {
   "cell_type": "code",
   "execution_count": 44,
   "metadata": {},
   "outputs": [
    {
     "name": "stdout",
     "output_type": "stream",
     "text": [
      "Array is : [[ 1.+0.j -0.-2.j]\n",
      " [ 0.+2.j  5.+0.j]]\n",
      "Eigen value is : [0.17157288 5.82842712]\n",
      "Eigen value is : [[-0.92387953-0.j         -0.38268343+0.j        ]\n",
      " [ 0.        +0.38268343j  0.        -0.92387953j]]\n"
     ]
    }
   ],
   "source": [
    "# Python program explaining\n",
    "# eigh() function\n",
    " \n",
    "from numpy import linalg as geek\n",
    " \n",
    "# Creating an array using array \n",
    "# function\n",
    "a = np.array([[1, -2j], [2j, 5]])\n",
    " \n",
    "print(\"Array is :\",a)\n",
    " \n",
    "# calculating an eigen value\n",
    "# using eigh() function\n",
    "c, d = geek.eigh(a)\n",
    " \n",
    "print(\"Eigen value is :\", c)\n",
    "print(\"Eigen value is :\", d)"
   ]
  },
  {
   "cell_type": "code",
   "execution_count": 45,
   "metadata": {},
   "outputs": [
    {
     "name": "stdout",
     "output_type": "stream",
     "text": [
      "Array is : [[1 0 0]\n",
      " [0 2 0]\n",
      " [0 0 3]]\n",
      "Eigen value is : [1. 2. 3.]\n",
      "Eigen value is : [[1. 0. 0.]\n",
      " [0. 1. 0.]\n",
      " [0. 0. 1.]]\n"
     ]
    }
   ],
   "source": [
    "# Python program explaining\n",
    "# eig() function\n",
    " \n",
    "from numpy import linalg as geek\n",
    " \n",
    "# Creating an array using diag \n",
    "# function\n",
    "a = np.diag((1, 2, 3))\n",
    " \n",
    "print(\"Array is :\",a)\n",
    " \n",
    "# calculating an eigen value\n",
    "# using eig() function\n",
    "c, d = geek.eig(a)\n",
    " \n",
    "print(\"Eigen value is :\",c)\n",
    "print(\"Eigen value is :\",d)"
   ]
  },
  {
   "cell_type": "code",
   "execution_count": 48,
   "metadata": {},
   "outputs": [
    {
     "name": "stdout",
     "output_type": "stream",
     "text": [
      "Dot Product of scalar values  :  20\n",
      "Dot Product  :  (-7+22j)\n"
     ]
    }
   ],
   "source": [
    "# Scalars\n",
    "product = np.dot(5, 4)\n",
    "print(\"Dot Product of scalar values  : \", product)\n",
    " \n",
    "# 1D array\n",
    "vector_a = 2 + 3j\n",
    "vector_b = 4 + 5j\n",
    " \n",
    "product = np.dot(vector_a, vector_b)\n",
    "print(\"Dot Product  : \", product)"
   ]
  },
  {
   "cell_type": "code",
   "execution_count": 50,
   "metadata": {},
   "outputs": [
    {
     "name": "stderr",
     "output_type": "stream",
     "text": [
      "C:\\Users\\AAMIR\\Anaconda3\\lib\\site-packages\\ipykernel_launcher.py:11: FutureWarning: `rcond` parameter will change to the default of machine precision times ``max(M, N)`` where M and N are the input matrix dimensions.\n",
      "To use the future default and silence this warning we advise to pass `rcond=None`, to keep using the old, explicitly pass `rcond=-1`.\n",
      "  # This is added back by InteractiveShellApp.init_path()\n"
     ]
    },
    {
     "data": {
      "image/png": "[encoded data removed]",
      "text/plain": [
       "<Figure size 432x288 with 1 Axes>"
      ]
     },
     "metadata": {
      "needs_background": "light"
     },
     "output_type": "display_data"
    }
   ],
   "source": [
    "import numpy as np\n",
    "import matplotlib.pyplot as plt\n",
    " \n",
    "# x co-ordinates\n",
    "x = np.arange(0, 9)\n",
    "A = np.array([x, np.ones(9)])\n",
    " \n",
    "# linearly generated sequence\n",
    "y = [19, 20, 20.5, 21.5, 22, 23, 23, 25.5, 24]\n",
    "# obtaining the parameters of regression line\n",
    "w = np.linalg.lstsq(A.T, y)[0] \n",
    " \n",
    "# plotting the line\n",
    "line = w[0]*x + w[1] # regression line\n",
    "plt.plot(x, line, 'r-')\n",
    "plt.plot(x, y, 'o')\n",
    "plt.show()"
   ]
  },
  {
   "cell_type": "code",
   "execution_count": null,
   "metadata": {},
   "outputs": [],
   "source": []
  },
  {
   "cell_type": "code",
   "execution_count": null,
   "metadata": {},
   "outputs": [],
   "source": []
  },
  {
   "cell_type": "code",
   "execution_count": null,
   "metadata": {},
   "outputs": [],
   "source": [
    "np.diag #return diagonal elements of square metrix\n",
    "np.transpose\n",
    "np.trace"
   ]
  },
  {
   "cell_type": "code",
   "execution_count": 19,
   "metadata": {},
   "outputs": [
    {
     "name": "stdout",
     "output_type": "stream",
     "text": [
      "7\n"
     ]
    }
   ],
   "source": [
    "a = np.array([[3,7,5],[8,4,3],[2,4,9]])\n",
    "print(np.ptp(a)) \n"
   ]
  },
  {
   "cell_type": "code",
   "execution_count": 20,
   "metadata": {},
   "outputs": [
    {
     "name": "stdout",
     "output_type": "stream",
     "text": [
      "Applying ptp() function along axis 1:\n",
      "[4 5 7]\n"
     ]
    }
   ],
   "source": [
    "print('Applying ptp() function along axis 1:')  \n",
    "print(np.ptp(a, axis = 1))  "
   ]
  },
  {
   "cell_type": "code",
   "execution_count": 21,
   "metadata": {},
   "outputs": [
    {
     "name": "stdout",
     "output_type": "stream",
     "text": [
      "Applying ptp() function along axis 0:\n",
      "[6 3 6]\n"
     ]
    }
   ],
   "source": [
    "print('Applying ptp() function along axis 0:')\n",
    "print(np.ptp(a, axis = 0))  "
   ]
  },
  {
   "cell_type": "markdown",
   "metadata": {},
   "source": [
    "# random numbers"
   ]
  },
  {
   "cell_type": "markdown",
   "metadata": {},
   "source": [
    "random numbers are generated in NumPy through various distributions \n",
    "1. binomial\n",
    "2. normal\n",
    "3. seed\n",
    "4. gamma\n",
    "5. uniform"
   ]
  },
  {
   "cell_type": "code",
   "execution_count": 22,
   "metadata": {},
   "outputs": [],
   "source": [
    "np.random.seed(0)"
   ]
  },
  {
   "cell_type": "code",
   "execution_count": 23,
   "metadata": {},
   "outputs": [
    {
     "data": {
      "text/plain": [
       "array([[ 1.76405235,  0.40015721,  0.97873798],\n",
       "       [ 2.2408932 ,  1.86755799, -0.97727788],\n",
       "       [ 0.95008842, -0.15135721, -0.10321885]])"
      ]
     },
     "execution_count": 23,
     "metadata": {},
     "output_type": "execute_result"
    }
   ],
   "source": [
    "np.random.normal(size=(3,3))"
   ]
  },
  {
   "cell_type": "code",
   "execution_count": 24,
   "metadata": {},
   "outputs": [
    {
     "data": {
      "text/plain": [
       "array([[0.79172504, 0.52889492, 0.56804456],\n",
       "       [0.92559664, 0.07103606, 0.0871293 ],\n",
       "       [0.0202184 , 0.83261985, 0.77815675]])"
      ]
     },
     "execution_count": 24,
     "metadata": {},
     "output_type": "execute_result"
    }
   ],
   "source": [
    "np.random.uniform(size=(3,3))"
   ]
  },
  {
   "cell_type": "markdown",
   "metadata": {},
   "source": [
    "# reshaping"
   ]
  },
  {
   "cell_type": "markdown",
   "metadata": {},
   "source": [
    "1. row major order := order = c\n",
    "2. column major oreder := order = f"
   ]
  },
  {
   "cell_type": "code",
   "execution_count": 51,
   "metadata": {},
   "outputs": [],
   "source": [
    "x= np.random.randn(4,5)"
   ]
  },
  {
   "cell_type": "code",
   "execution_count": 52,
   "metadata": {},
   "outputs": [
    {
     "data": {
      "text/plain": [
       "array([[ 0.4105985 , -0.18158257,  1.41020463, -0.37447169,  0.27519832],\n",
       "       [-0.96075461,  0.37692697,  0.03343893,  0.68056724, -1.56349669],\n",
       "       [-0.56669762, -0.24214951,  1.51439128, -0.3330574 ,  0.04736482],\n",
       "       [ 1.46274045,  1.53502913,  0.56644004,  0.14926509, -1.078278  ]])"
      ]
     },
     "execution_count": 52,
     "metadata": {},
     "output_type": "execute_result"
    }
   ],
   "source": [
    "x"
   ]
  },
  {
   "cell_type": "code",
   "execution_count": 53,
   "metadata": {},
   "outputs": [
    {
     "data": {
      "text/plain": [
       "array([[[ 0.4105985 , -0.18158257,  1.41020463, -0.37447169,\n",
       "          0.27519832],\n",
       "        [-0.96075461,  0.37692697,  0.03343893,  0.68056724,\n",
       "         -1.56349669]],\n",
       "\n",
       "       [[-0.56669762, -0.24214951,  1.51439128, -0.3330574 ,\n",
       "          0.04736482],\n",
       "        [ 1.46274045,  1.53502913,  0.56644004,  0.14926509,\n",
       "         -1.078278  ]]])"
      ]
     },
     "execution_count": 53,
     "metadata": {},
     "output_type": "execute_result"
    }
   ],
   "source": [
    "x.reshape(2,2,5)"
   ]
  },
  {
   "cell_type": "code",
   "execution_count": 54,
   "metadata": {},
   "outputs": [
    {
     "data": {
      "text/plain": [
       "array([[[ 0.4105985 , -0.18158257,  1.41020463, -0.37447169,\n",
       "          0.27519832],\n",
       "        [-0.96075461,  0.37692697,  0.03343893,  0.68056724,\n",
       "         -1.56349669]],\n",
       "\n",
       "       [[-0.56669762, -0.24214951,  1.51439128, -0.3330574 ,\n",
       "          0.04736482],\n",
       "        [ 1.46274045,  1.53502913,  0.56644004,  0.14926509,\n",
       "         -1.078278  ]]])"
      ]
     },
     "execution_count": 54,
     "metadata": {},
     "output_type": "execute_result"
    }
   ],
   "source": [
    "x.reshape((2,2,5), order= 'c')"
   ]
  },
  {
   "cell_type": "code",
   "execution_count": 55,
   "metadata": {},
   "outputs": [
    {
     "data": {
      "text/plain": [
       "array([[[ 0.4105985 , -0.18158257,  1.41020463, -0.37447169,\n",
       "          0.27519832],\n",
       "        [-0.56669762, -0.24214951,  1.51439128, -0.3330574 ,\n",
       "          0.04736482]],\n",
       "\n",
       "       [[-0.96075461,  0.37692697,  0.03343893,  0.68056724,\n",
       "         -1.56349669],\n",
       "        [ 1.46274045,  1.53502913,  0.56644004,  0.14926509,\n",
       "         -1.078278  ]]])"
      ]
     },
     "execution_count": 55,
     "metadata": {},
     "output_type": "execute_result"
    }
   ],
   "source": [
    "x.reshape((2,2,5), order= 'f')"
   ]
  },
  {
   "cell_type": "code",
   "execution_count": 56,
   "metadata": {},
   "outputs": [],
   "source": [
    "y= np.random.randn(64,28,28)"
   ]
  },
  {
   "cell_type": "code",
   "execution_count": 57,
   "metadata": {},
   "outputs": [
    {
     "data": {
      "text/plain": [
       "array([[[ 1.39547227,  1.78748405, -0.56951726, ...,  1.11971196,\n",
       "         -0.45792242,  0.4253934 ],\n",
       "        [-0.02797118,  1.47598983,  0.6467801 , ...,  1.84369153,\n",
       "          1.52550724, -1.44553558],\n",
       "        [ 0.37716061, -0.07055723,  0.60415971, ...,  0.60457228,\n",
       "         -1.74305823,  1.52422681],\n",
       "        ...,\n",
       "        [ 0.60852904, -0.86678957, -0.56619067, ...,  0.7507614 ,\n",
       "          0.16211829,  0.62390044],\n",
       "        [ 0.8504647 ,  0.79021127,  0.11072686, ..., -0.311161  ,\n",
       "         -2.60894165,  0.51121935],\n",
       "        [-1.47832026, -0.80660686,  0.77324633, ..., -0.75213371,\n",
       "         -1.06136058,  0.6751333 ]],\n",
       "\n",
       "       [[ 0.91389033,  1.77751719,  0.50347912, ...,  0.09411436,\n",
       "          0.38203832, -1.80080112],\n",
       "        [ 0.4627897 , -0.14300857,  0.26225487, ..., -0.89592705,\n",
       "          1.20207421, -0.24440259],\n",
       "        [ 0.18198308, -1.33840856, -0.5169678 , ..., -0.2982913 ,\n",
       "         -2.42484631,  0.25273537],\n",
       "        ...,\n",
       "        [ 1.77507607,  0.67633186,  0.89061787, ...,  1.11416079,\n",
       "          0.2447813 , -1.29453141],\n",
       "        [-0.83581387,  1.15326039, -1.93956038, ...,  1.07823023,\n",
       "         -1.96863306,  0.93990513],\n",
       "        [ 0.46322918, -2.47494858, -0.0634586 , ...,  0.49236864,\n",
       "         -1.50432164, -0.18551976]],\n",
       "\n",
       "       [[-1.68665548, -0.49006793,  0.60745273, ...,  0.86123783,\n",
       "         -0.1372097 , -1.72543933],\n",
       "        [-0.93577853, -0.79180741, -0.26660543, ..., -1.0899075 ,\n",
       "         -0.81638295, -0.9437297 ],\n",
       "        [-1.15403295,  0.49687534,  1.64400413, ...,  0.44494905,\n",
       "          0.08096559,  0.10642753],\n",
       "        ...,\n",
       "        [ 0.1043788 , -0.41047876,  0.96353492, ...,  0.07154461,\n",
       "          0.68498694,  1.00010928],\n",
       "        [-0.56261639, -0.73343943,  1.68276872, ..., -0.01592746,\n",
       "          0.91792662, -0.45001405],\n",
       "        [ 0.19954188, -0.5133805 , -0.4102601 , ..., -0.92798537,\n",
       "         -0.35554566,  0.71794804]],\n",
       "\n",
       "       ...,\n",
       "\n",
       "       [[-1.13159866, -1.23683687, -0.92774074, ...,  2.79462713,\n",
       "         -0.55843698,  0.0610777 ],\n",
       "        [ 0.06178889,  0.79923278,  0.1644338 , ..., -1.51309023,\n",
       "          1.22035022, -0.87998298],\n",
       "        [-0.25713618,  1.10427521, -1.26078192, ..., -0.67649789,\n",
       "          1.15561111, -0.44484235],\n",
       "        ...,\n",
       "        [-1.17032034, -0.92315458,  1.36745257, ...,  0.19888627,\n",
       "          0.28823957,  1.60968756],\n",
       "        [ 1.40581032, -0.39563036, -0.84908362, ...,  0.66493915,\n",
       "          0.04838372, -1.72427529],\n",
       "        [-0.18015078, -0.8445071 ,  0.06287596, ...,  2.48503911,\n",
       "         -0.99548631, -0.51542233]],\n",
       "\n",
       "       [[-0.79402924,  0.08924225,  1.06389091, ..., -1.86496186,\n",
       "         -0.44432981,  0.4938596 ],\n",
       "        [-0.22873736, -0.75779829, -1.37122433, ..., -0.83673858,\n",
       "         -0.46280428, -0.39727134],\n",
       "        [-2.26064669,  0.74651711, -0.84854607, ...,  1.73917269,\n",
       "          0.77632972,  0.25275377],\n",
       "        ...,\n",
       "        [-1.10023949, -0.56210696, -0.26905522, ..., -0.981055  ,\n",
       "         -1.61052672, -0.19521731],\n",
       "        [ 0.36867462,  0.99142226,  1.29430568, ..., -0.37381504,\n",
       "         -0.55139452, -0.53599435],\n",
       "        [ 0.90563506, -0.23367409,  1.39090608, ..., -0.43122835,\n",
       "         -0.31778483,  0.45839028]],\n",
       "\n",
       "       [[-0.45824583, -0.38305395,  0.40727329, ..., -0.64886974,\n",
       "         -0.06911957, -0.84907028],\n",
       "        [ 0.64055412, -1.13890436, -0.50032814, ..., -2.01659098,\n",
       "         -0.87051937,  0.8865955 ],\n",
       "        [-0.85725655, -1.7847786 ,  1.5897912 , ...,  0.53779988,\n",
       "          0.3394669 , -0.64946662],\n",
       "        ...,\n",
       "        [-0.08989288,  2.39761154,  1.16095309, ..., -2.06477944,\n",
       "          1.01054687, -0.54750357],\n",
       "        [ 1.36066786,  1.23921332, -2.07642758, ..., -0.20413693,\n",
       "         -0.29505618, -0.24656643],\n",
       "        [ 0.18362139, -0.95186712,  0.35087088, ..., -0.01390137,\n",
       "          0.4896098 ,  1.76159324]]])"
      ]
     },
     "execution_count": 57,
     "metadata": {},
     "output_type": "execute_result"
    }
   ],
   "source": [
    "y"
   ]
  },
  {
   "cell_type": "code",
   "execution_count": 58,
   "metadata": {},
   "outputs": [
    {
     "data": {
      "text/plain": [
       "array([ 1.39547227,  1.78748405, -0.56951726, ..., -0.01390137,\n",
       "        0.4896098 ,  1.76159324])"
      ]
     },
     "execution_count": 58,
     "metadata": {},
     "output_type": "execute_result"
    }
   ],
   "source": [
    "y.ravel()"
   ]
  },
  {
   "cell_type": "code",
   "execution_count": 59,
   "metadata": {},
   "outputs": [
    {
     "data": {
      "text/plain": [
       "array([ 1.39547227,  1.78748405, -0.56951726, ..., -0.01390137,\n",
       "        0.4896098 ,  1.76159324])"
      ]
     },
     "execution_count": 59,
     "metadata": {},
     "output_type": "execute_result"
    }
   ],
   "source": [
    "y.flatten()"
   ]
  },
  {
   "cell_type": "markdown",
   "metadata": {},
   "source": [
    "# concatenation"
   ]
  },
  {
   "cell_type": "markdown",
   "metadata": {},
   "source": [
    "1. axis=0\n",
    "    1. row wise\n",
    "2. axis=1\n",
    "    1. column wise"
   ]
  },
  {
   "cell_type": "markdown",
   "metadata": {},
   "source": [
    "1. vstack = row-wise\n",
    "2. hstack = column-wise"
   ]
  },
  {
   "cell_type": "code",
   "execution_count": 61,
   "metadata": {},
   "outputs": [],
   "source": [
    "a= np.array([[1,3,5],[7,9,0]])\n",
    "b= np.array([[11,13,15],[17,19,10]])"
   ]
  },
  {
   "cell_type": "code",
   "execution_count": 62,
   "metadata": {},
   "outputs": [
    {
     "data": {
      "text/plain": [
       "array([[1, 3, 5],\n",
       "       [7, 9, 0]])"
      ]
     },
     "execution_count": 62,
     "metadata": {},
     "output_type": "execute_result"
    }
   ],
   "source": [
    "a"
   ]
  },
  {
   "cell_type": "code",
   "execution_count": 63,
   "metadata": {},
   "outputs": [
    {
     "data": {
      "text/plain": [
       "array([[11, 13, 15],\n",
       "       [17, 19, 10]])"
      ]
     },
     "execution_count": 63,
     "metadata": {},
     "output_type": "execute_result"
    }
   ],
   "source": [
    "b"
   ]
  },
  {
   "cell_type": "code",
   "execution_count": 64,
   "metadata": {},
   "outputs": [
    {
     "data": {
      "text/plain": [
       "array([[ 1,  3,  5],\n",
       "       [ 7,  9,  0],\n",
       "       [11, 13, 15],\n",
       "       [17, 19, 10]])"
      ]
     },
     "execution_count": 64,
     "metadata": {},
     "output_type": "execute_result"
    }
   ],
   "source": [
    "np.concatenate((a,b), axis=0)"
   ]
  },
  {
   "cell_type": "code",
   "execution_count": 65,
   "metadata": {},
   "outputs": [
    {
     "data": {
      "text/plain": [
       "array([[ 1,  3,  5, 11, 13, 15],\n",
       "       [ 7,  9,  0, 17, 19, 10]])"
      ]
     },
     "execution_count": 65,
     "metadata": {},
     "output_type": "execute_result"
    }
   ],
   "source": [
    "np.concatenate((a,b), axis=1)"
   ]
  },
  {
   "cell_type": "code",
   "execution_count": 66,
   "metadata": {},
   "outputs": [
    {
     "data": {
      "text/plain": [
       "array([[ 1,  3,  5],\n",
       "       [ 7,  9,  0],\n",
       "       [11, 13, 15],\n",
       "       [17, 19, 10]])"
      ]
     },
     "execution_count": 66,
     "metadata": {},
     "output_type": "execute_result"
    }
   ],
   "source": [
    "np.vstack((a,b))"
   ]
  },
  {
   "cell_type": "code",
   "execution_count": 67,
   "metadata": {},
   "outputs": [
    {
     "data": {
      "text/plain": [
       "array([[ 1,  3,  5, 11, 13, 15],\n",
       "       [ 7,  9,  0, 17, 19, 10]])"
      ]
     },
     "execution_count": 67,
     "metadata": {},
     "output_type": "execute_result"
    }
   ],
   "source": [
    "np.hstack((a,b))"
   ]
  },
  {
   "cell_type": "markdown",
   "metadata": {},
   "source": [
    "# split"
   ]
  },
  {
   "cell_type": "code",
   "execution_count": 68,
   "metadata": {},
   "outputs": [
    {
     "data": {
      "text/plain": [
       "array([1, 2, 3, 4, 5, 6, 7, 8, 7, 6, 5, 4, 3, 2])"
      ]
     },
     "execution_count": 68,
     "metadata": {},
     "output_type": "execute_result"
    }
   ],
   "source": [
    "d = np.array([1,2,3,4,5,6,7,8,7,6,5,4,3,2,])\n",
    "d"
   ]
  },
  {
   "cell_type": "code",
   "execution_count": 69,
   "metadata": {},
   "outputs": [
    {
     "data": {
      "text/plain": [
       "[array([1, 2]), array([3, 4, 5]), array([6, 7, 8, 7, 6, 5, 4, 3, 2])]"
      ]
     },
     "execution_count": 69,
     "metadata": {},
     "output_type": "execute_result"
    }
   ],
   "source": [
    "np.split(d, [2,5])"
   ]
  },
  {
   "cell_type": "code",
   "execution_count": 70,
   "metadata": {},
   "outputs": [],
   "source": [
    "x= np.random.randn(10,10)"
   ]
  },
  {
   "cell_type": "code",
   "execution_count": 71,
   "metadata": {},
   "outputs": [
    {
     "data": {
      "text/plain": [
       "array([[-0.3710455 , -0.93932436,  1.92330685,  1.37475402,  0.25779739,\n",
       "         0.10878123,  1.2331385 ,  0.48413826,  0.37681672,  0.49153441],\n",
       "       [ 1.15224936, -1.20097342,  0.36308194,  0.58214233,  1.27958699,\n",
       "        -1.10400356, -1.28871674,  0.2635872 ,  0.12537845, -1.91928202],\n",
       "       [ 0.14641596, -0.97368484,  1.64932744,  0.87079991, -0.63291592,\n",
       "        -1.98685746, -1.22987608,  0.88196   ,  0.11280297,  0.67311429],\n",
       "       [-0.41530661,  1.49607403,  1.11243023, -0.43267423,  0.82295794,\n",
       "         0.44321171,  0.40714312,  0.14524056,  0.07753841,  0.63648652],\n",
       "       [ 0.27736413,  0.30235027, -0.1532951 ,  0.86233665, -1.20313297,\n",
       "         1.08579603, -1.9132961 ,  0.62904755,  0.17592669, -2.35721503],\n",
       "       [-0.45363011, -0.53706237,  1.73644815, -0.50436796, -1.81980612,\n",
       "        -0.63402995, -1.49673338, -0.81784308,  0.04375155,  1.19307691],\n",
       "       [ 0.55015263, -0.94040053,  0.11785726, -0.01501126,  1.50957927,\n",
       "        -0.5500443 , -1.16205101,  0.61699677, -0.45956301, -0.65152716],\n",
       "       [ 0.83880622,  0.64645476, -0.23804992,  1.07437508,  0.26693502,\n",
       "         0.19131436,  0.13412358,  1.36392441,  1.01408596,  0.68574421],\n",
       "       [ 1.53536314,  0.13344814,  0.55586717,  0.6313136 , -1.89900392,\n",
       "         1.42980134,  1.12722021,  0.71473833,  0.36177379,  2.17754518],\n",
       "       [ 0.50851345, -1.70758281,  1.06419183, -0.31590096,  0.8841442 ,\n",
       "        -0.37921088, -1.89089226,  1.47065366,  3.25029054,  0.77984812]])"
      ]
     },
     "execution_count": 71,
     "metadata": {},
     "output_type": "execute_result"
    }
   ],
   "source": [
    "x"
   ]
  },
  {
   "cell_type": "code",
   "execution_count": 72,
   "metadata": {},
   "outputs": [
    {
     "data": {
      "text/plain": [
       "[array([[-0.3710455 , -0.93932436,  1.92330685,  1.37475402,  0.25779739,\n",
       "          0.10878123,  1.2331385 ,  0.48413826,  0.37681672,  0.49153441],\n",
       "        [ 1.15224936, -1.20097342,  0.36308194,  0.58214233,  1.27958699,\n",
       "         -1.10400356, -1.28871674,  0.2635872 ,  0.12537845, -1.91928202],\n",
       "        [ 0.14641596, -0.97368484,  1.64932744,  0.87079991, -0.63291592,\n",
       "         -1.98685746, -1.22987608,  0.88196   ,  0.11280297,  0.67311429],\n",
       "        [-0.41530661,  1.49607403,  1.11243023, -0.43267423,  0.82295794,\n",
       "          0.44321171,  0.40714312,  0.14524056,  0.07753841,  0.63648652]]),\n",
       " array([[ 0.27736413,  0.30235027, -0.1532951 ,  0.86233665, -1.20313297,\n",
       "          1.08579603, -1.9132961 ,  0.62904755,  0.17592669, -2.35721503],\n",
       "        [-0.45363011, -0.53706237,  1.73644815, -0.50436796, -1.81980612,\n",
       "         -0.63402995, -1.49673338, -0.81784308,  0.04375155,  1.19307691]]),\n",
       " array([[ 0.55015263, -0.94040053,  0.11785726, -0.01501126,  1.50957927,\n",
       "         -0.5500443 , -1.16205101,  0.61699677, -0.45956301, -0.65152716],\n",
       "        [ 0.83880622,  0.64645476, -0.23804992,  1.07437508,  0.26693502,\n",
       "          0.19131436,  0.13412358,  1.36392441,  1.01408596,  0.68574421],\n",
       "        [ 1.53536314,  0.13344814,  0.55586717,  0.6313136 , -1.89900392,\n",
       "          1.42980134,  1.12722021,  0.71473833,  0.36177379,  2.17754518],\n",
       "        [ 0.50851345, -1.70758281,  1.06419183, -0.31590096,  0.8841442 ,\n",
       "         -0.37921088, -1.89089226,  1.47065366,  3.25029054,  0.77984812]])]"
      ]
     },
     "execution_count": 72,
     "metadata": {},
     "output_type": "execute_result"
    }
   ],
   "source": [
    "np.split(x, [4,6], axis=0)"
   ]
  },
  {
   "cell_type": "code",
   "execution_count": 73,
   "metadata": {},
   "outputs": [
    {
     "data": {
      "text/plain": [
       "[array([[-0.3710455 , -0.93932436,  1.92330685,  1.37475402],\n",
       "        [ 1.15224936, -1.20097342,  0.36308194,  0.58214233],\n",
       "        [ 0.14641596, -0.97368484,  1.64932744,  0.87079991],\n",
       "        [-0.41530661,  1.49607403,  1.11243023, -0.43267423],\n",
       "        [ 0.27736413,  0.30235027, -0.1532951 ,  0.86233665],\n",
       "        [-0.45363011, -0.53706237,  1.73644815, -0.50436796],\n",
       "        [ 0.55015263, -0.94040053,  0.11785726, -0.01501126],\n",
       "        [ 0.83880622,  0.64645476, -0.23804992,  1.07437508],\n",
       "        [ 1.53536314,  0.13344814,  0.55586717,  0.6313136 ],\n",
       "        [ 0.50851345, -1.70758281,  1.06419183, -0.31590096]]),\n",
       " array([[ 0.25779739,  0.10878123],\n",
       "        [ 1.27958699, -1.10400356],\n",
       "        [-0.63291592, -1.98685746],\n",
       "        [ 0.82295794,  0.44321171],\n",
       "        [-1.20313297,  1.08579603],\n",
       "        [-1.81980612, -0.63402995],\n",
       "        [ 1.50957927, -0.5500443 ],\n",
       "        [ 0.26693502,  0.19131436],\n",
       "        [-1.89900392,  1.42980134],\n",
       "        [ 0.8841442 , -0.37921088]]),\n",
       " array([[ 1.2331385 ,  0.48413826,  0.37681672,  0.49153441],\n",
       "        [-1.28871674,  0.2635872 ,  0.12537845, -1.91928202],\n",
       "        [-1.22987608,  0.88196   ,  0.11280297,  0.67311429],\n",
       "        [ 0.40714312,  0.14524056,  0.07753841,  0.63648652],\n",
       "        [-1.9132961 ,  0.62904755,  0.17592669, -2.35721503],\n",
       "        [-1.49673338, -0.81784308,  0.04375155,  1.19307691],\n",
       "        [-1.16205101,  0.61699677, -0.45956301, -0.65152716],\n",
       "        [ 0.13412358,  1.36392441,  1.01408596,  0.68574421],\n",
       "        [ 1.12722021,  0.71473833,  0.36177379,  2.17754518],\n",
       "        [-1.89089226,  1.47065366,  3.25029054,  0.77984812]])]"
      ]
     },
     "execution_count": 73,
     "metadata": {},
     "output_type": "execute_result"
    }
   ],
   "source": [
    "np.split(x, [4,6], axis=1)"
   ]
  },
  {
   "cell_type": "markdown",
   "metadata": {},
   "source": [
    "# tile and repeat"
   ]
  },
  {
   "cell_type": "code",
   "execution_count": 74,
   "metadata": {},
   "outputs": [],
   "source": [
    "d= np.array([1,2,3,4,5])"
   ]
  },
  {
   "cell_type": "code",
   "execution_count": 76,
   "metadata": {},
   "outputs": [
    {
     "data": {
      "text/plain": [
       "array([1, 2, 3, 4, 5])"
      ]
     },
     "execution_count": 76,
     "metadata": {},
     "output_type": "execute_result"
    }
   ],
   "source": [
    "d"
   ]
  },
  {
   "cell_type": "code",
   "execution_count": 77,
   "metadata": {},
   "outputs": [
    {
     "data": {
      "text/plain": [
       "array([1, 1, 1, 2, 2, 2, 3, 3, 3, 4, 4, 4, 5, 5, 5])"
      ]
     },
     "execution_count": 77,
     "metadata": {},
     "output_type": "execute_result"
    }
   ],
   "source": [
    "np.repeat(d, 3)"
   ]
  },
  {
   "cell_type": "code",
   "execution_count": 78,
   "metadata": {},
   "outputs": [
    {
     "data": {
      "text/plain": [
       "array([1, 2, 3, 4, 5, 1, 2, 3, 4, 5])"
      ]
     },
     "execution_count": 78,
     "metadata": {},
     "output_type": "execute_result"
    }
   ],
   "source": [
    "np.tile(d, 2)"
   ]
  },
  {
   "cell_type": "code",
   "execution_count": 2,
   "metadata": {},
   "outputs": [
    {
     "data": {
      "text/plain": [
       "range(0, 10)"
      ]
     },
     "execution_count": 2,
     "metadata": {},
     "output_type": "execute_result"
    }
   ],
   "source": [
    "range(10)"
   ]
  },
  {
   "cell_type": "code",
   "execution_count": 3,
   "metadata": {},
   "outputs": [],
   "source": [
    "arr= np.arange(10)"
   ]
  },
  {
   "cell_type": "code",
   "execution_count": 5,
   "metadata": {},
   "outputs": [
    {
     "data": {
      "text/plain": [
       "array([0, 1, 2, 3, 4, 5, 6, 7, 8, 9])"
      ]
     },
     "execution_count": 5,
     "metadata": {},
     "output_type": "execute_result"
    }
   ],
   "source": [
    "arr"
   ]
  },
  {
   "cell_type": "code",
   "execution_count": 6,
   "metadata": {},
   "outputs": [
    {
     "data": {
      "text/plain": [
       "array([[ 1.62434536, -0.61175641, -0.52817175, -1.07296862],\n",
       "       [ 0.86540763, -2.3015387 ,  1.74481176, -0.7612069 ],\n",
       "       [ 0.3190391 , -0.24937038,  1.46210794, -2.06014071],\n",
       "       [-0.3224172 , -0.38405435,  1.13376944, -1.09989127]])"
      ]
     },
     "execution_count": 6,
     "metadata": {},
     "output_type": "execute_result"
    }
   ],
   "source": [
    "np.random.randn(4,4)"
   ]
  },
  {
   "cell_type": "code",
   "execution_count": 7,
   "metadata": {},
   "outputs": [
    {
     "data": {
      "text/plain": [
       "1"
      ]
     },
     "execution_count": 7,
     "metadata": {},
     "output_type": "execute_result"
    }
   ],
   "source": [
    "np.random.randint(15)"
   ]
  },
  {
   "cell_type": "code",
   "execution_count": 8,
   "metadata": {},
   "outputs": [
    {
     "data": {
      "text/plain": [
       "array([[0., 0., 0.],\n",
       "       [0., 0., 0.]])"
      ]
     },
     "execution_count": 8,
     "metadata": {},
     "output_type": "execute_result"
    }
   ],
   "source": [
    "np.zeros((2,3))"
   ]
  },
  {
   "cell_type": "code",
   "execution_count": 9,
   "metadata": {},
   "outputs": [
    {
     "data": {
      "text/plain": [
       "array([[1., 1., 1., 1., 1.],\n",
       "       [1., 1., 1., 1., 1.],\n",
       "       [1., 1., 1., 1., 1.],\n",
       "       [1., 1., 1., 1., 1.],\n",
       "       [1., 1., 1., 1., 1.]])"
      ]
     },
     "execution_count": 9,
     "metadata": {},
     "output_type": "execute_result"
    }
   ],
   "source": [
    "np.ones((5,5))"
   ]
  },
  {
   "cell_type": "code",
   "execution_count": 11,
   "metadata": {},
   "outputs": [
    {
     "name": "stdout",
     "output_type": "stream",
     "text": [
      "Wall time: 3 ms\n"
     ]
    }
   ],
   "source": [
    "array= np.arange(1000000)\n",
    "%time array1= array*2 "
   ]
  },
  {
   "cell_type": "code",
   "execution_count": 12,
   "metadata": {},
   "outputs": [
    {
     "name": "stdout",
     "output_type": "stream",
     "text": [
      "Wall time: 199 ms\n"
     ]
    }
   ],
   "source": [
    "li= range(1000000)\n",
    "%time li1= [x*2 for x in li ]"
   ]
  },
  {
   "cell_type": "code",
   "execution_count": 13,
   "metadata": {},
   "outputs": [],
   "source": [
    "x= np.random.randn(5,5)"
   ]
  },
  {
   "cell_type": "code",
   "execution_count": 17,
   "metadata": {},
   "outputs": [
    {
     "data": {
      "text/plain": [
       "array([[ 0.17532267,  0.19443089, -0.53524902,  0.77735121,  0.17133845],\n",
       "       [-0.44285144,  1.70490377,  0.92434585, -1.30486124, -0.38057504],\n",
       "       [-0.74362701, -0.43712177, -0.42645009,  1.3814073 ,  0.09837051],\n",
       "       [-0.36945748, -1.27321995,  1.0149868 , -1.48105971, -0.28709989],\n",
       "       [-0.05682428, -0.78810511,  0.06770979, -1.03890593, -0.26367745]])"
      ]
     },
     "execution_count": 17,
     "metadata": {},
     "output_type": "execute_result"
    }
   ],
   "source": [
    "x.dtype\n",
    "x"
   ]
  },
  {
   "cell_type": "code",
   "execution_count": 18,
   "metadata": {},
   "outputs": [
    {
     "data": {
      "text/plain": [
       "array([[ 0.17532267,  0.19443089, -0.535249  ,  0.7773512 ,  0.17133845],\n",
       "       [-0.44285145,  1.7049037 ,  0.92434585, -1.3048612 , -0.38057503],\n",
       "       [-0.743627  , -0.43712178, -0.4264501 ,  1.3814073 ,  0.09837051],\n",
       "       [-0.36945748, -1.27322   ,  1.0149868 , -1.4810597 , -0.2870999 ],\n",
       "       [-0.05682428, -0.78810513,  0.06770979, -1.038906  , -0.26367745]],\n",
       "      dtype=float32)"
      ]
     },
     "execution_count": 18,
     "metadata": {},
     "output_type": "execute_result"
    }
   ],
   "source": [
    "x.astype(np.float32)"
   ]
  },
  {
   "cell_type": "code",
   "execution_count": 22,
   "metadata": {},
   "outputs": [],
   "source": [
    "li= [[1,2,3,4],[5,6,7,8]]\n",
    "x1= np.array(li)"
   ]
  },
  {
   "cell_type": "code",
   "execution_count": 23,
   "metadata": {},
   "outputs": [
    {
     "data": {
      "text/plain": [
       "array([[1, 2, 3, 4],\n",
       "       [5, 6, 7, 8]])"
      ]
     },
     "execution_count": 23,
     "metadata": {},
     "output_type": "execute_result"
    }
   ],
   "source": [
    "x1"
   ]
  },
  {
   "cell_type": "code",
   "execution_count": 24,
   "metadata": {},
   "outputs": [
    {
     "data": {
      "text/plain": [
       "2"
      ]
     },
     "execution_count": 24,
     "metadata": {},
     "output_type": "execute_result"
    }
   ],
   "source": [
    "x1.ndim"
   ]
  },
  {
   "cell_type": "code",
   "execution_count": 26,
   "metadata": {},
   "outputs": [
    {
     "data": {
      "text/plain": [
       "(2, 4)"
      ]
     },
     "execution_count": 26,
     "metadata": {},
     "output_type": "execute_result"
    }
   ],
   "source": [
    "x1.shape"
   ]
  },
  {
   "cell_type": "code",
   "execution_count": 27,
   "metadata": {},
   "outputs": [
    {
     "data": {
      "text/plain": [
       "array([[1, 2, 3, 4, 5, 6, 7, 8]])"
      ]
     },
     "execution_count": 27,
     "metadata": {},
     "output_type": "execute_result"
    }
   ],
   "source": [
    "x1.reshape(1,8)"
   ]
  },
  {
   "cell_type": "code",
   "execution_count": 28,
   "metadata": {},
   "outputs": [
    {
     "data": {
      "text/plain": [
       "array([[1, 2],\n",
       "       [3, 4],\n",
       "       [5, 6],\n",
       "       [7, 8]])"
      ]
     },
     "execution_count": 28,
     "metadata": {},
     "output_type": "execute_result"
    }
   ],
   "source": [
    "x1.reshape(4,2)"
   ]
  },
  {
   "cell_type": "code",
   "execution_count": 29,
   "metadata": {},
   "outputs": [
    {
     "ename": "ValueError",
     "evalue": "cannot reshape array of size 8 into shape (3,2)",
     "output_type": "error",
     "traceback": [
      "\u001b[1;31m---------------------------------------------------------------------------\u001b[0m",
      "\u001b[1;31mValueError\u001b[0m                                Traceback (most recent call last)",
      "\u001b[1;32m<ipython-input-29-2aef6bdec444>\u001b[0m in \u001b[0;36m<module>\u001b[1;34m\u001b[0m\n\u001b[1;32m----> 1\u001b[1;33m \u001b[0mx1\u001b[0m\u001b[1;33m.\u001b[0m\u001b[0mreshape\u001b[0m\u001b[1;33m(\u001b[0m\u001b[1;36m3\u001b[0m\u001b[1;33m,\u001b[0m\u001b[1;36m2\u001b[0m\u001b[1;33m)\u001b[0m\u001b[1;33m\u001b[0m\u001b[1;33m\u001b[0m\u001b[0m\n\u001b[0m",
      "\u001b[1;31mValueError\u001b[0m: cannot reshape array of size 8 into shape (3,2)"
     ]
    }
   ],
   "source": [
    "x1.reshape(3,2)"
   ]
  },
  {
   "cell_type": "code",
   "execution_count": 30,
   "metadata": {},
   "outputs": [
    {
     "data": {
      "text/plain": [
       "array([[1.62434536, 0.61175641, 0.52817175, 1.07296862],\n",
       "       [0.86540763, 2.3015387 , 1.74481176, 0.7612069 ],\n",
       "       [0.3190391 , 0.24937038, 1.46210794, 2.06014071],\n",
       "       [0.3224172 , 0.38405435, 1.13376944, 1.09989127]])"
      ]
     },
     "execution_count": 30,
     "metadata": {},
     "output_type": "execute_result"
    }
   ],
   "source": [
    "np.empty((4,4))"
   ]
  },
  {
   "cell_type": "code",
   "execution_count": 32,
   "metadata": {},
   "outputs": [],
   "source": [
    "li= [1,2,3,4],[5,6,7,8],[9,10,11,12],[13,14,15,16]\n",
    "x2= np.array(li)"
   ]
  },
  {
   "cell_type": "code",
   "execution_count": 33,
   "metadata": {},
   "outputs": [
    {
     "data": {
      "text/plain": [
       "array([[ 1,  2,  3,  4],\n",
       "       [ 5,  6,  7,  8],\n",
       "       [ 9, 10, 11, 12],\n",
       "       [13, 14, 15, 16]])"
      ]
     },
     "execution_count": 33,
     "metadata": {},
     "output_type": "execute_result"
    }
   ],
   "source": [
    "x2"
   ]
  },
  {
   "cell_type": "code",
   "execution_count": 34,
   "metadata": {},
   "outputs": [
    {
     "data": {
      "text/plain": [
       "array([[0, 0, 0, 0],\n",
       "       [0, 0, 0, 0],\n",
       "       [0, 0, 0, 0],\n",
       "       [0, 0, 0, 0]])"
      ]
     },
     "execution_count": 34,
     "metadata": {},
     "output_type": "execute_result"
    }
   ],
   "source": [
    "np.zeros_like(x2)"
   ]
  },
  {
   "cell_type": "code",
   "execution_count": 35,
   "metadata": {},
   "outputs": [
    {
     "data": {
      "text/plain": [
       "array([[1, 1, 1, 1],\n",
       "       [1, 1, 1, 1],\n",
       "       [1, 1, 1, 1],\n",
       "       [1, 1, 1, 1]])"
      ]
     },
     "execution_count": 35,
     "metadata": {},
     "output_type": "execute_result"
    }
   ],
   "source": [
    "np.ones_like(x2)"
   ]
  },
  {
   "cell_type": "code",
   "execution_count": 36,
   "metadata": {},
   "outputs": [
    {
     "data": {
      "text/plain": [
       "array([[      0,       0,       0,       0],\n",
       "       [      0,       0,       0,       0],\n",
       "       [      0,       0,    1404,       0],\n",
       "       [      0,      50,       0, 6553646]])"
      ]
     },
     "execution_count": 36,
     "metadata": {},
     "output_type": "execute_result"
    }
   ],
   "source": [
    "np.empty_like(x2)"
   ]
  },
  {
   "cell_type": "code",
   "execution_count": 39,
   "metadata": {},
   "outputs": [
    {
     "data": {
      "text/plain": [
       "array([[5, 5, 5, 5],\n",
       "       [5, 5, 5, 5],\n",
       "       [5, 5, 5, 5],\n",
       "       [5, 5, 5, 5]])"
      ]
     },
     "execution_count": 39,
     "metadata": {},
     "output_type": "execute_result"
    }
   ],
   "source": [
    "np.full_like(x2, fill_value=5)"
   ]
  },
  {
   "cell_type": "code",
   "execution_count": null,
   "metadata": {},
   "outputs": [],
   "source": []
  },
  {
   "cell_type": "code",
   "execution_count": 40,
   "metadata": {},
   "outputs": [
    {
     "data": {
      "text/plain": [
       "array(['1', '2.0', 'aamir'], dtype='<U32')"
      ]
     },
     "execution_count": 40,
     "metadata": {},
     "output_type": "execute_result"
    }
   ],
   "source": [
    "li=[1,2.,'aamir']\n",
    "np.array(li)"
   ]
  },
  {
   "cell_type": "code",
   "execution_count": 49,
   "metadata": {},
   "outputs": [],
   "source": [
    "arr1= np.random.randn(5,4)"
   ]
  },
  {
   "cell_type": "code",
   "execution_count": 12,
   "metadata": {},
   "outputs": [],
   "source": [
    "arr2= np.full((5,4), fill_value=4)"
   ]
  },
  {
   "cell_type": "code",
   "execution_count": 13,
   "metadata": {},
   "outputs": [
    {
     "data": {
      "text/plain": [
       "array([[4, 4, 4, 4],\n",
       "       [4, 4, 4, 4],\n",
       "       [4, 4, 4, 4],\n",
       "       [4, 4, 4, 4],\n",
       "       [4, 4, 4, 4]])"
      ]
     },
     "execution_count": 13,
     "metadata": {},
     "output_type": "execute_result"
    }
   ],
   "source": [
    "arr2"
   ]
  },
  {
   "cell_type": "code",
   "execution_count": 47,
   "metadata": {},
   "outputs": [
    {
     "data": {
      "text/plain": [
       "array([[4, 4, 4, 4],\n",
       "       [4, 4, 4, 4],\n",
       "       [4, 4, 4, 4],\n",
       "       [4, 4, 4, 4],\n",
       "       [4, 4, 4, 4]])"
      ]
     },
     "execution_count": 47,
     "metadata": {},
     "output_type": "execute_result"
    }
   ],
   "source": [
    "arr2"
   ]
  },
  {
   "cell_type": "code",
   "execution_count": 50,
   "metadata": {},
   "outputs": [
    {
     "data": {
      "text/plain": [
       "array([[2.07779999, 3.10517477, 4.33006282, 5.048591  ],\n",
       "       [5.34989935, 5.24567511, 3.30880853, 5.28107338],\n",
       "       [3.27293569, 3.20083131, 3.99645438, 4.51259464],\n",
       "       [3.83213914, 5.34633628, 3.38450802, 3.2569633 ],\n",
       "       [5.01593613, 3.44484459, 4.43625936, 3.85331028]])"
      ]
     },
     "execution_count": 50,
     "metadata": {},
     "output_type": "execute_result"
    }
   ],
   "source": [
    "arr1+arr2"
   ]
  },
  {
   "cell_type": "code",
   "execution_count": 51,
   "metadata": {},
   "outputs": [
    {
     "data": {
      "text/plain": [
       "array([[-3.84440003, -1.78965046,  0.66012564,  2.097182  ],\n",
       "       [ 2.6997987 ,  2.49135021, -1.38238294,  2.56214676],\n",
       "       [-1.45412862, -1.59833739, -0.00709124,  1.02518927],\n",
       "       [-0.33572173,  2.69267256, -1.23098396, -1.48607339],\n",
       "       [ 2.03187226, -1.11031083,  0.87251872, -0.29337943]])"
      ]
     },
     "execution_count": 51,
     "metadata": {},
     "output_type": "execute_result"
    }
   ],
   "source": [
    "arr1*2"
   ]
  },
  {
   "cell_type": "markdown",
   "metadata": {},
   "source": [
    "[[2,2,2,2],\n",
    "[2,2,2,2],\n",
    "[2,2,2,2],\n",
    "[2,2,2,2]] braodcasting "
   ]
  },
  {
   "cell_type": "code",
   "execution_count": 52,
   "metadata": {},
   "outputs": [
    {
     "data": {
      "text/plain": [
       "array([[-1.92220001, -0.89482523,  0.33006282,  1.048591  ],\n",
       "       [ 1.34989935,  1.24567511, -0.69119147,  1.28107338],\n",
       "       [-0.72706431, -0.79916869, -0.00354562,  0.51259464],\n",
       "       [-0.16786086,  1.34633628, -0.61549198, -0.7430367 ],\n",
       "       [ 1.01593613, -0.55515541,  0.43625936, -0.14668972]])"
      ]
     },
     "execution_count": 52,
     "metadata": {},
     "output_type": "execute_result"
    }
   ],
   "source": [
    "arr1"
   ]
  },
  {
   "cell_type": "code",
   "execution_count": 53,
   "metadata": {},
   "outputs": [
    {
     "data": {
      "text/plain": [
       "array([[-0.72706431, -0.79916869],\n",
       "       [-0.16786086,  1.34633628]])"
      ]
     },
     "execution_count": 53,
     "metadata": {},
     "output_type": "execute_result"
    }
   ],
   "source": [
    "#row #column\n",
    "arr1[2:4,0:2]"
   ]
  },
  {
   "cell_type": "code",
   "execution_count": 54,
   "metadata": {},
   "outputs": [
    {
     "data": {
      "text/plain": [
       "array([[-1.92220001, -0.89482523,  0.33006282,  1.048591  ],\n",
       "       [ 1.34989935,  1.24567511, -0.69119147,  1.28107338],\n",
       "       [-0.72706431, -0.79916869, -0.00354562,  0.51259464],\n",
       "       [-0.16786086,  1.34633628, -0.61549198, -0.7430367 ],\n",
       "       [ 1.01593613, -0.55515541,  0.43625936, -0.14668972]])"
      ]
     },
     "execution_count": 54,
     "metadata": {},
     "output_type": "execute_result"
    }
   ],
   "source": [
    "arr1"
   ]
  },
  {
   "cell_type": "code",
   "execution_count": 55,
   "metadata": {},
   "outputs": [
    {
     "data": {
      "text/plain": [
       "array([[-1.92220001, -0.89482523,  0.33006282,  1.048591  ],\n",
       "       [ 1.34989935,  1.24567511, -0.69119147,  1.28107338],\n",
       "       [-0.72706431, -0.79916869, -0.00354562,  0.51259464],\n",
       "       [-0.16786086,  1.34633628, -0.61549198, -0.7430367 ],\n",
       "       [ 1.01593613, -0.55515541,  0.43625936, -0.14668972]])"
      ]
     },
     "execution_count": 55,
     "metadata": {},
     "output_type": "execute_result"
    }
   ],
   "source": [
    "arr1[:,:]"
   ]
  },
  {
   "cell_type": "code",
   "execution_count": 56,
   "metadata": {},
   "outputs": [],
   "source": [
    "li= [[1,2,0,0,3,4,5],[1,2,3,4,5,0,0],[3,4,5,0,7,6,5]]\n",
    "arr= np.array(li)"
   ]
  },
  {
   "cell_type": "code",
   "execution_count": 72,
   "metadata": {},
   "outputs": [
    {
     "data": {
      "text/plain": [
       "(3, 7)"
      ]
     },
     "execution_count": 72,
     "metadata": {},
     "output_type": "execute_result"
    }
   ],
   "source": [
    "arr.shape"
   ]
  },
  {
   "cell_type": "code",
   "execution_count": 65,
   "metadata": {},
   "outputs": [],
   "source": [
    "mask= arr>0"
   ]
  },
  {
   "cell_type": "code",
   "execution_count": 63,
   "metadata": {},
   "outputs": [
    {
     "data": {
      "text/plain": [
       "array([1, 2, 3, 4, 5, 1, 2, 3, 4, 5, 3, 4, 5, 7, 6, 5])"
      ]
     },
     "execution_count": 63,
     "metadata": {},
     "output_type": "execute_result"
    }
   ],
   "source": [
    "mask"
   ]
  },
  {
   "cell_type": "code",
   "execution_count": 66,
   "metadata": {},
   "outputs": [
    {
     "data": {
      "text/plain": [
       "array([1, 2, 3, 4, 5, 1, 2, 3, 4, 5, 3, 4, 5, 7, 6, 5])"
      ]
     },
     "execution_count": 66,
     "metadata": {},
     "output_type": "execute_result"
    }
   ],
   "source": [
    "arr[mask]"
   ]
  },
  {
   "cell_type": "code",
   "execution_count": 73,
   "metadata": {},
   "outputs": [],
   "source": [
    "name= np.array(['bob', 'john','peter','bob', 'harry','bob', 'harry'])"
   ]
  },
  {
   "cell_type": "code",
   "execution_count": 74,
   "metadata": {},
   "outputs": [],
   "source": [
    "names= name== 'bob'"
   ]
  },
  {
   "cell_type": "code",
   "execution_count": 75,
   "metadata": {},
   "outputs": [
    {
     "data": {
      "text/plain": [
       "array([ True, False, False,  True, False,  True, False])"
      ]
     },
     "execution_count": 75,
     "metadata": {},
     "output_type": "execute_result"
    }
   ],
   "source": [
    "names"
   ]
  },
  {
   "cell_type": "code",
   "execution_count": 80,
   "metadata": {},
   "outputs": [
    {
     "data": {
      "text/plain": [
       "array([[1, 2, 0, 0, 3, 4, 5],\n",
       "       [1, 2, 3, 4, 5, 0, 0],\n",
       "       [3, 4, 5, 0, 7, 6, 5]])"
      ]
     },
     "execution_count": 80,
     "metadata": {},
     "output_type": "execute_result"
    }
   ],
   "source": [
    "arr.reshape(3,7)"
   ]
  },
  {
   "cell_type": "code",
   "execution_count": 84,
   "metadata": {},
   "outputs": [
    {
     "ename": "IndexError",
     "evalue": "boolean index did not match indexed array along dimension 0; dimension is 3 but corresponding boolean dimension is 7",
     "output_type": "error",
     "traceback": [
      "\u001b[1;31m---------------------------------------------------------------------------\u001b[0m",
      "\u001b[1;31mIndexError\u001b[0m                                Traceback (most recent call last)",
      "\u001b[1;32m<ipython-input-84-31a499baa0ef>\u001b[0m in \u001b[0;36m<module>\u001b[1;34m\u001b[0m\n\u001b[1;32m----> 1\u001b[1;33m \u001b[0marr\u001b[0m\u001b[1;33m[\u001b[0m\u001b[0mname\u001b[0m\u001b[1;33m==\u001b[0m \u001b[1;34m'bob'\u001b[0m\u001b[1;33m]\u001b[0m\u001b[1;33m\u001b[0m\u001b[1;33m\u001b[0m\u001b[0m\n\u001b[0m",
      "\u001b[1;31mIndexError\u001b[0m: boolean index did not match indexed array along dimension 0; dimension is 3 but corresponding boolean dimension is 7"
     ]
    }
   ],
   "source": [
    "arr[name== 'bob']"
   ]
  },
  {
   "cell_type": "code",
   "execution_count": 88,
   "metadata": {},
   "outputs": [
    {
     "data": {
      "text/plain": [
       "array(['Bob', 'Joe', 'Will', 'Bob', 'Will', 'Joe', 'Joe'], dtype='<U4')"
      ]
     },
     "execution_count": 88,
     "metadata": {},
     "output_type": "execute_result"
    }
   ],
   "source": [
    "names = np.array(['Bob', 'Joe', 'Will', 'Bob', 'Will', 'Joe', 'Joe'])\n",
    "names"
   ]
  },
  {
   "cell_type": "code",
   "execution_count": 89,
   "metadata": {},
   "outputs": [
    {
     "data": {
      "text/plain": [
       "array([[-0.48358431,  1.01940357, -0.98586791, -1.24495588],\n",
       "       [ 1.92386177, -0.44295074,  1.54552413, -1.91843645],\n",
       "       [-0.99491836, -0.40805216,  0.1023022 , -0.86662218],\n",
       "       [ 0.36123562, -0.93786433, -1.3856563 , -0.33888054],\n",
       "       [-0.17925544, -0.24094727, -0.24769856, -0.16851994],\n",
       "       [ 0.57370922, -0.95677318, -0.65152255,  0.71927514],\n",
       "       [ 1.23439948, -0.26646764,  1.56464899, -0.98356039]])"
      ]
     },
     "execution_count": 89,
     "metadata": {},
     "output_type": "execute_result"
    }
   ],
   "source": [
    "data = np.random.randn(7, 4)\n",
    "data"
   ]
  },
  {
   "cell_type": "code",
   "execution_count": 87,
   "metadata": {},
   "outputs": [
    {
     "data": {
      "text/plain": [
       "array([ True, False, False,  True, False, False, False])"
      ]
     },
     "execution_count": 87,
     "metadata": {},
     "output_type": "execute_result"
    }
   ],
   "source": [
    "names == 'Bob'"
   ]
  },
  {
   "cell_type": "code",
   "execution_count": 90,
   "metadata": {},
   "outputs": [
    {
     "data": {
      "text/plain": [
       "array([[-0.48358431,  1.01940357, -0.98586791, -1.24495588],\n",
       "       [ 0.36123562, -0.93786433, -1.3856563 , -0.33888054]])"
      ]
     },
     "execution_count": 90,
     "metadata": {},
     "output_type": "execute_result"
    }
   ],
   "source": [
    "data[names == 'Bob']"
   ]
  },
  {
   "cell_type": "code",
   "execution_count": 92,
   "metadata": {},
   "outputs": [
    {
     "data": {
      "text/plain": [
       "array([[-0.48358431,  1.01940357, -0.98586791, -1.24495588],\n",
       "       [-0.99491836, -0.40805216,  0.1023022 , -0.86662218],\n",
       "       [ 0.36123562, -0.93786433, -1.3856563 , -0.33888054],\n",
       "       [-0.17925544, -0.24094727, -0.24769856, -0.16851994]])"
      ]
     },
     "execution_count": 92,
     "metadata": {},
     "output_type": "execute_result"
    }
   ],
   "source": [
    "mask= (names=='Bob') | (names=='Will')\n",
    "data[mask]"
   ]
  },
  {
   "cell_type": "code",
   "execution_count": 93,
   "metadata": {},
   "outputs": [],
   "source": [
    "data[names!= 'Joe']= 7."
   ]
  },
  {
   "cell_type": "code",
   "execution_count": 94,
   "metadata": {},
   "outputs": [
    {
     "data": {
      "text/plain": [
       "array([[ 7.        ,  7.        ,  7.        ,  7.        ],\n",
       "       [ 1.92386177, -0.44295074,  1.54552413, -1.91843645],\n",
       "       [ 7.        ,  7.        ,  7.        ,  7.        ],\n",
       "       [ 7.        ,  7.        ,  7.        ,  7.        ],\n",
       "       [ 7.        ,  7.        ,  7.        ,  7.        ],\n",
       "       [ 0.57370922, -0.95677318, -0.65152255,  0.71927514],\n",
       "       [ 1.23439948, -0.26646764,  1.56464899, -0.98356039]])"
      ]
     },
     "execution_count": 94,
     "metadata": {},
     "output_type": "execute_result"
    }
   ],
   "source": [
    "data"
   ]
  },
  {
   "cell_type": "code",
   "execution_count": 95,
   "metadata": {},
   "outputs": [
    {
     "data": {
      "text/plain": [
       "array([[1.23516411e-322, 1.28026218e-311, 1.28023055e-311,\n",
       "        9.88131292e-324],\n",
       "       [3.81959242e-313, 1.38338381e-322, 1.28023054e-311,\n",
       "        4.94065646e-324],\n",
       "       [1.39610347e-309, 7.21478569e-313, 4.24399159e-314,\n",
       "        6.95259555e-310],\n",
       "       [2.12199581e-311, 6.36628381e-314, 8.27578358e-313,\n",
       "        4.45619116e-313],\n",
       "       [1.28026218e-311, 2.12199579e-314, 2.12199579e-314,\n",
       "        2.12199580e-314],\n",
       "       [1.28026218e-311, 1.28026218e-311, 2.12199579e-314,\n",
       "        7.21478569e-313],\n",
       "       [2.96439388e-323, 1.28026218e-311, 1.28026218e-311,\n",
       "        3.81959242e-311],\n",
       "       [4.94065646e-324, 0.00000000e+000, 3.81959242e-313,\n",
       "        4.94065646e-324]])"
      ]
     },
     "execution_count": 95,
     "metadata": {},
     "output_type": "execute_result"
    }
   ],
   "source": [
    "arr = np.empty((8, 4))\n",
    "arr"
   ]
  },
  {
   "cell_type": "code",
   "execution_count": 96,
   "metadata": {},
   "outputs": [],
   "source": [
    "for i in range(8):\n",
    "    arr[i] = i\n"
   ]
  },
  {
   "cell_type": "code",
   "execution_count": 97,
   "metadata": {},
   "outputs": [
    {
     "data": {
      "text/plain": [
       "array([[0., 0., 0., 0.],\n",
       "       [1., 1., 1., 1.],\n",
       "       [2., 2., 2., 2.],\n",
       "       [3., 3., 3., 3.],\n",
       "       [4., 4., 4., 4.],\n",
       "       [5., 5., 5., 5.],\n",
       "       [6., 6., 6., 6.],\n",
       "       [7., 7., 7., 7.]])"
      ]
     },
     "execution_count": 97,
     "metadata": {},
     "output_type": "execute_result"
    }
   ],
   "source": [
    "arr"
   ]
  },
  {
   "cell_type": "code",
   "execution_count": 100,
   "metadata": {},
   "outputs": [
    {
     "data": {
      "text/plain": [
       "array([[2., 2., 2., 2.],\n",
       "       [3., 3., 3., 3.],\n",
       "       [5., 5., 5., 5.],\n",
       "       [6., 6., 6., 6.]])"
      ]
     },
     "execution_count": 100,
     "metadata": {},
     "output_type": "execute_result"
    }
   ],
   "source": [
    "arr[[2,3,5,6]]"
   ]
  },
  {
   "cell_type": "code",
   "execution_count": 101,
   "metadata": {},
   "outputs": [
    {
     "data": {
      "text/plain": [
       "array([[7., 7., 7., 7.],\n",
       "       [3., 3., 3., 3.],\n",
       "       [2., 2., 2., 2.]])"
      ]
     },
     "execution_count": 101,
     "metadata": {},
     "output_type": "execute_result"
    }
   ],
   "source": [
    "arr[[-1,-5,-6]]"
   ]
  },
  {
   "cell_type": "code",
   "execution_count": 108,
   "metadata": {},
   "outputs": [
    {
     "data": {
      "text/plain": [
       "array([[ 0,  1],\n",
       "       [ 2,  3],\n",
       "       [ 4,  5],\n",
       "       [ 6,  7],\n",
       "       [ 8,  9],\n",
       "       [10, 11],\n",
       "       [12, 13],\n",
       "       [14, 15],\n",
       "       [16, 17],\n",
       "       [18, 19],\n",
       "       [20, 21],\n",
       "       [22, 23],\n",
       "       [24, 25],\n",
       "       [26, 27],\n",
       "       [28, 29],\n",
       "       [30, 31]])"
      ]
     },
     "execution_count": 108,
     "metadata": {},
     "output_type": "execute_result"
    }
   ],
   "source": [
    "arr= np.arange(32).reshape(16,2)\n",
    "arr"
   ]
  },
  {
   "cell_type": "code",
   "execution_count": 109,
   "metadata": {},
   "outputs": [
    {
     "data": {
      "text/plain": [
       "array([[ 0,  2,  4,  6,  8, 10, 12, 14, 16, 18, 20, 22, 24, 26, 28, 30],\n",
       "       [ 1,  3,  5,  7,  9, 11, 13, 15, 17, 19, 21, 23, 25, 27, 29, 31]])"
      ]
     },
     "execution_count": 109,
     "metadata": {},
     "output_type": "execute_result"
    }
   ],
   "source": [
    "arr.T"
   ]
  },
  {
   "cell_type": "code",
   "execution_count": 110,
   "metadata": {},
   "outputs": [
    {
     "data": {
      "text/plain": [
       "array([[ 0,  2,  4,  6,  8, 10, 12, 14, 16, 18, 20, 22, 24, 26, 28, 30],\n",
       "       [ 1,  3,  5,  7,  9, 11, 13, 15, 17, 19, 21, 23, 25, 27, 29, 31]])"
      ]
     },
     "execution_count": 110,
     "metadata": {},
     "output_type": "execute_result"
    }
   ],
   "source": [
    "np.transpose(arr)"
   ]
  },
  {
   "cell_type": "code",
   "execution_count": 111,
   "metadata": {},
   "outputs": [
    {
     "ename": "ValueError",
     "evalue": "operands could not be broadcast together with shapes (2,16) (16,2) ",
     "output_type": "error",
     "traceback": [
      "\u001b[1;31m---------------------------------------------------------------------------\u001b[0m",
      "\u001b[1;31mValueError\u001b[0m                                Traceback (most recent call last)",
      "\u001b[1;32m<ipython-input-111-fec0bbf8d75b>\u001b[0m in \u001b[0;36m<module>\u001b[1;34m\u001b[0m\n\u001b[1;32m----> 1\u001b[1;33m \u001b[0marr\u001b[0m\u001b[1;33m.\u001b[0m\u001b[0mT\u001b[0m \u001b[1;33m*\u001b[0m \u001b[0marr\u001b[0m\u001b[1;33m\u001b[0m\u001b[1;33m\u001b[0m\u001b[0m\n\u001b[0m",
      "\u001b[1;31mValueError\u001b[0m: operands could not be broadcast together with shapes (2,16) (16,2) "
     ]
    }
   ],
   "source": [
    "arr.T * arr"
   ]
  },
  {
   "cell_type": "code",
   "execution_count": 112,
   "metadata": {},
   "outputs": [
    {
     "data": {
      "text/plain": [
       "array([[4960, 5200],\n",
       "       [5200, 5456]])"
      ]
     },
     "execution_count": 112,
     "metadata": {},
     "output_type": "execute_result"
    }
   ],
   "source": [
    "np.dot(arr.T, arr)"
   ]
  },
  {
   "cell_type": "code",
   "execution_count": 123,
   "metadata": {},
   "outputs": [],
   "source": [
    "#                            0   1  2\n",
    "arr = np.arange(60).reshape((6, 5, 2))"
   ]
  },
  {
   "cell_type": "code",
   "execution_count": 129,
   "metadata": {},
   "outputs": [
    {
     "data": {
      "text/plain": [
       "array([[[ 0,  2,  4,  6,  8],\n",
       "        [ 1,  3,  5,  7,  9]],\n",
       "\n",
       "       [[10, 12, 14, 16, 18],\n",
       "        [11, 13, 15, 17, 19]],\n",
       "\n",
       "       [[20, 22, 24, 26, 28],\n",
       "        [21, 23, 25, 27, 29]],\n",
       "\n",
       "       [[30, 32, 34, 36, 38],\n",
       "        [31, 33, 35, 37, 39]],\n",
       "\n",
       "       [[40, 42, 44, 46, 48],\n",
       "        [41, 43, 45, 47, 49]],\n",
       "\n",
       "       [[50, 52, 54, 56, 58],\n",
       "        [51, 53, 55, 57, 59]]])"
      ]
     },
     "execution_count": 129,
     "metadata": {},
     "output_type": "execute_result"
    }
   ],
   "source": [
    "arr.transpose((0, 2, 1)) #(2, 5, 6)"
   ]
  },
  {
   "cell_type": "code",
   "execution_count": 122,
   "metadata": {},
   "outputs": [
    {
     "data": {
      "text/plain": [
       "array([[[ 0,  1,  2,  3],\n",
       "        [ 8,  9, 10, 11]],\n",
       "\n",
       "       [[ 4,  5,  6,  7],\n",
       "        [12, 13, 14, 15]]])"
      ]
     },
     "execution_count": 122,
     "metadata": {},
     "output_type": "execute_result"
    }
   ],
   "source": [
    "arr.transpose((1,0,2))"
   ]
  },
  {
   "cell_type": "code",
   "execution_count": 121,
   "metadata": {},
   "outputs": [
    {
     "data": {
      "text/plain": [
       "array([[[ 0,  8],\n",
       "        [ 4, 12]],\n",
       "\n",
       "       [[ 1,  9],\n",
       "        [ 5, 13]],\n",
       "\n",
       "       [[ 2, 10],\n",
       "        [ 6, 14]],\n",
       "\n",
       "       [[ 3, 11],\n",
       "        [ 7, 15]]])"
      ]
     },
     "execution_count": 121,
     "metadata": {},
     "output_type": "execute_result"
    }
   ],
   "source": [
    "arr.transpose()"
   ]
  },
  {
   "cell_type": "code",
   "execution_count": 130,
   "metadata": {},
   "outputs": [
    {
     "data": {
      "text/plain": [
       "(6, 5, 2)"
      ]
     },
     "execution_count": 130,
     "metadata": {},
     "output_type": "execute_result"
    }
   ],
   "source": [
    "arr.shape"
   ]
  },
  {
   "cell_type": "code",
   "execution_count": 134,
   "metadata": {},
   "outputs": [
    {
     "data": {
      "text/plain": [
       "(2, 5, 6)"
      ]
     },
     "execution_count": 134,
     "metadata": {},
     "output_type": "execute_result"
    }
   ],
   "source": [
    "arr.swapaxes(0,2).shape"
   ]
  },
  {
   "cell_type": "code",
   "execution_count": 135,
   "metadata": {},
   "outputs": [
    {
     "data": {
      "text/plain": [
       "array([ 0.4006415 ,  0.14581403, -5.87267336, -5.46642364, -0.56261079,\n",
       "       -3.66263091,  3.36906723])"
      ]
     },
     "execution_count": 135,
     "metadata": {},
     "output_type": "execute_result"
    }
   ],
   "source": [
    "arr = np.random.randn(7) * 5\n",
    "arr"
   ]
  },
  {
   "cell_type": "code",
   "execution_count": 136,
   "metadata": {},
   "outputs": [
    {
     "data": {
      "text/plain": [
       "array([ 0.4006415 ,  0.14581403, -0.87267336, -0.46642364, -0.56261079,\n",
       "       -0.66263091,  0.36906723])"
      ]
     },
     "execution_count": 136,
     "metadata": {},
     "output_type": "execute_result"
    }
   ],
   "source": [
    "remainder, whole= np.modf(arr)\n",
    "remainder"
   ]
  },
  {
   "cell_type": "code",
   "execution_count": 137,
   "metadata": {},
   "outputs": [
    {
     "data": {
      "text/plain": [
       "array([ 0.,  0., -5., -5., -0., -3.,  3.])"
      ]
     },
     "execution_count": 137,
     "metadata": {},
     "output_type": "execute_result"
    }
   ],
   "source": [
    "whole"
   ]
  },
  {
   "cell_type": "code",
   "execution_count": 138,
   "metadata": {},
   "outputs": [],
   "source": [
    "arr= np.random.randn(4,4)"
   ]
  },
  {
   "cell_type": "code",
   "execution_count": 139,
   "metadata": {},
   "outputs": [
    {
     "data": {
      "text/plain": [
       "array([[-0.43490928, -1.02350373,  0.12756686,  0.71794121],\n",
       "       [ 0.38893621,  1.07144178,  1.17822245, -0.9067845 ],\n",
       "       [ 1.71577556,  0.16473423,  0.50307319, -0.89985433],\n",
       "       [ 1.63186328, -0.5225589 , -0.57182319,  1.43158861]])"
      ]
     },
     "execution_count": 139,
     "metadata": {},
     "output_type": "execute_result"
    }
   ],
   "source": [
    "arr"
   ]
  },
  {
   "cell_type": "code",
   "execution_count": 144,
   "metadata": {},
   "outputs": [
    {
     "data": {
      "text/plain": [
       "array([[-1., -2.,  0.,  0.],\n",
       "       [ 0.,  1.,  1., -1.],\n",
       "       [ 1.,  0.,  0., -1.],\n",
       "       [ 1., -1., -1.,  1.]])"
      ]
     },
     "execution_count": 144,
     "metadata": {},
     "output_type": "execute_result"
    }
   ],
   "source": [
    "np.floor(arr)"
   ]
  },
  {
   "cell_type": "code",
   "execution_count": 148,
   "metadata": {},
   "outputs": [
    {
     "data": {
      "text/plain": [
       "array([[ 0.0897721 ,  1.00718061, -0.88944722, -1.33661913],\n",
       "       [-0.2567505 ,  0.39358174, -1.89597116, -0.86381863],\n",
       "       [-1.01950067,  0.21037752, -0.12365893,  0.2985789 ],\n",
       "       [ 0.57698885, -0.39856094,  0.67565544, -0.56765269]])"
      ]
     },
     "execution_count": 148,
     "metadata": {},
     "output_type": "execute_result"
    }
   ],
   "source": [
    "arr1= np.random.randn(4,4)\n",
    "arr1"
   ]
  },
  {
   "cell_type": "code",
   "execution_count": 149,
   "metadata": {},
   "outputs": [
    {
     "data": {
      "text/plain": [
       "array([[-1., -1., -7., -2.],\n",
       "       [-1.,  0., -2.,  0.],\n",
       "       [-1.,  1., -1., -1.],\n",
       "       [ 0.,  0., -2., -1.]])"
      ]
     },
     "execution_count": 149,
     "metadata": {},
     "output_type": "execute_result"
    }
   ],
   "source": [
    "np.floor_divide(arr1, arr)"
   ]
  },
  {
   "cell_type": "code",
   "execution_count": 168,
   "metadata": {},
   "outputs": [],
   "source": [
    "points= np.arange(-1, 10, 0.01)"
   ]
  },
  {
   "cell_type": "code",
   "execution_count": 156,
   "metadata": {},
   "outputs": [
    {
     "data": {
      "text/plain": [
       "array([-1,  0,  1,  2,  3,  4,  5,  6,  7,  8,  9])"
      ]
     },
     "execution_count": 156,
     "metadata": {},
     "output_type": "execute_result"
    }
   ],
   "source": [
    "points"
   ]
  },
  {
   "cell_type": "code",
   "execution_count": 169,
   "metadata": {},
   "outputs": [],
   "source": [
    "xs, ys= np.meshgrid(points, points)"
   ]
  },
  {
   "cell_type": "code",
   "execution_count": 158,
   "metadata": {},
   "outputs": [
    {
     "data": {
      "text/plain": [
       "array([[-1,  0,  1,  2,  3,  4,  5,  6,  7,  8,  9],\n",
       "       [-1,  0,  1,  2,  3,  4,  5,  6,  7,  8,  9],\n",
       "       [-1,  0,  1,  2,  3,  4,  5,  6,  7,  8,  9],\n",
       "       [-1,  0,  1,  2,  3,  4,  5,  6,  7,  8,  9],\n",
       "       [-1,  0,  1,  2,  3,  4,  5,  6,  7,  8,  9],\n",
       "       [-1,  0,  1,  2,  3,  4,  5,  6,  7,  8,  9],\n",
       "       [-1,  0,  1,  2,  3,  4,  5,  6,  7,  8,  9],\n",
       "       [-1,  0,  1,  2,  3,  4,  5,  6,  7,  8,  9],\n",
       "       [-1,  0,  1,  2,  3,  4,  5,  6,  7,  8,  9],\n",
       "       [-1,  0,  1,  2,  3,  4,  5,  6,  7,  8,  9],\n",
       "       [-1,  0,  1,  2,  3,  4,  5,  6,  7,  8,  9]])"
      ]
     },
     "execution_count": 158,
     "metadata": {},
     "output_type": "execute_result"
    }
   ],
   "source": [
    "xs"
   ]
  },
  {
   "cell_type": "code",
   "execution_count": 159,
   "metadata": {},
   "outputs": [
    {
     "data": {
      "text/plain": [
       "array([[-1, -1, -1, -1, -1, -1, -1, -1, -1, -1, -1],\n",
       "       [ 0,  0,  0,  0,  0,  0,  0,  0,  0,  0,  0],\n",
       "       [ 1,  1,  1,  1,  1,  1,  1,  1,  1,  1,  1],\n",
       "       [ 2,  2,  2,  2,  2,  2,  2,  2,  2,  2,  2],\n",
       "       [ 3,  3,  3,  3,  3,  3,  3,  3,  3,  3,  3],\n",
       "       [ 4,  4,  4,  4,  4,  4,  4,  4,  4,  4,  4],\n",
       "       [ 5,  5,  5,  5,  5,  5,  5,  5,  5,  5,  5],\n",
       "       [ 6,  6,  6,  6,  6,  6,  6,  6,  6,  6,  6],\n",
       "       [ 7,  7,  7,  7,  7,  7,  7,  7,  7,  7,  7],\n",
       "       [ 8,  8,  8,  8,  8,  8,  8,  8,  8,  8,  8],\n",
       "       [ 9,  9,  9,  9,  9,  9,  9,  9,  9,  9,  9]])"
      ]
     },
     "execution_count": 159,
     "metadata": {},
     "output_type": "execute_result"
    }
   ],
   "source": [
    "ys"
   ]
  },
  {
   "cell_type": "code",
   "execution_count": 170,
   "metadata": {},
   "outputs": [],
   "source": [
    "z = np.sqrt(xs ** 2 + ys ** 2)"
   ]
  },
  {
   "cell_type": "code",
   "execution_count": 161,
   "metadata": {},
   "outputs": [
    {
     "data": {
      "text/plain": [
       "array([[ 1.41421356,  1.        ,  1.41421356,  2.23606798,  3.16227766,\n",
       "         4.12310563,  5.09901951,  6.08276253,  7.07106781,  8.06225775,\n",
       "         9.05538514],\n",
       "       [ 1.        ,  0.        ,  1.        ,  2.        ,  3.        ,\n",
       "         4.        ,  5.        ,  6.        ,  7.        ,  8.        ,\n",
       "         9.        ],\n",
       "       [ 1.41421356,  1.        ,  1.41421356,  2.23606798,  3.16227766,\n",
       "         4.12310563,  5.09901951,  6.08276253,  7.07106781,  8.06225775,\n",
       "         9.05538514],\n",
       "       [ 2.23606798,  2.        ,  2.23606798,  2.82842712,  3.60555128,\n",
       "         4.47213595,  5.38516481,  6.32455532,  7.28010989,  8.24621125,\n",
       "         9.21954446],\n",
       "       [ 3.16227766,  3.        ,  3.16227766,  3.60555128,  4.24264069,\n",
       "         5.        ,  5.83095189,  6.70820393,  7.61577311,  8.54400375,\n",
       "         9.48683298],\n",
       "       [ 4.12310563,  4.        ,  4.12310563,  4.47213595,  5.        ,\n",
       "         5.65685425,  6.40312424,  7.21110255,  8.06225775,  8.94427191,\n",
       "         9.8488578 ],\n",
       "       [ 5.09901951,  5.        ,  5.09901951,  5.38516481,  5.83095189,\n",
       "         6.40312424,  7.07106781,  7.81024968,  8.60232527,  9.43398113,\n",
       "        10.29563014],\n",
       "       [ 6.08276253,  6.        ,  6.08276253,  6.32455532,  6.70820393,\n",
       "         7.21110255,  7.81024968,  8.48528137,  9.21954446, 10.        ,\n",
       "        10.81665383],\n",
       "       [ 7.07106781,  7.        ,  7.07106781,  7.28010989,  7.61577311,\n",
       "         8.06225775,  8.60232527,  9.21954446,  9.89949494, 10.63014581,\n",
       "        11.40175425],\n",
       "       [ 8.06225775,  8.        ,  8.06225775,  8.24621125,  8.54400375,\n",
       "         8.94427191,  9.43398113, 10.        , 10.63014581, 11.3137085 ,\n",
       "        12.04159458],\n",
       "       [ 9.05538514,  9.        ,  9.05538514,  9.21954446,  9.48683298,\n",
       "         9.8488578 , 10.29563014, 10.81665383, 11.40175425, 12.04159458,\n",
       "        12.72792206]])"
      ]
     },
     "execution_count": 161,
     "metadata": {},
     "output_type": "execute_result"
    }
   ],
   "source": [
    "z"
   ]
  },
  {
   "cell_type": "code",
   "execution_count": 171,
   "metadata": {},
   "outputs": [
    {
     "data": {
      "text/plain": [
       "Text(0.5, 1.0, 'Image plot of $\\\\sqrt{x^2 + y^2}$ for a grid of values')"
      ]
     },
     "execution_count": 171,
     "metadata": {},
     "output_type": "execute_result"
    },
    {
     "data": {
      "image/png": "[encoded data removed]",
      "text/plain": [
       "<Figure size 432x288 with 2 Axes>"
      ]
     },
     "metadata": {
      "needs_background": "light"
     },
     "output_type": "display_data"
    }
   ],
   "source": [
    "import matplotlib.pyplot as plt\n",
    "plt.imshow(z, cmap=plt.cm.gray); plt.colorbar()\n",
    "plt.title(\"Image plot of $\\sqrt{x^2 + y^2}$ for a grid of values\")"
   ]
  },
  {
   "cell_type": "code",
   "execution_count": 172,
   "metadata": {},
   "outputs": [
    {
     "data": {
      "text/plain": [
       "array([1.1, 1.2, 1.3, 1.4, 1.5])"
      ]
     },
     "execution_count": 172,
     "metadata": {},
     "output_type": "execute_result"
    }
   ],
   "source": [
    "xarr = np.array([1.1, 1.2, 1.3, 1.4, 1.5])\n",
    "xarr"
   ]
  },
  {
   "cell_type": "code",
   "execution_count": 173,
   "metadata": {},
   "outputs": [
    {
     "data": {
      "text/plain": [
       "array([2.1, 2.2, 2.3, 2.4, 2.5])"
      ]
     },
     "execution_count": 173,
     "metadata": {},
     "output_type": "execute_result"
    }
   ],
   "source": [
    "yarr = np.array([2.1, 2.2, 2.3, 2.4, 2.5])\n",
    "yarr"
   ]
  },
  {
   "cell_type": "code",
   "execution_count": 174,
   "metadata": {},
   "outputs": [
    {
     "data": {
      "text/plain": [
       "array([ True, False,  True,  True, False])"
      ]
     },
     "execution_count": 174,
     "metadata": {},
     "output_type": "execute_result"
    }
   ],
   "source": [
    "cond = np.array([True, False, True, True, False])\n",
    "cond"
   ]
  },
  {
   "cell_type": "code",
   "execution_count": 177,
   "metadata": {},
   "outputs": [],
   "source": [
    "result = np.where(cond, yarr, xarr)"
   ]
  },
  {
   "cell_type": "code",
   "execution_count": 178,
   "metadata": {},
   "outputs": [
    {
     "data": {
      "text/plain": [
       "array([2.1, 1.2, 2.3, 2.4, 1.5])"
      ]
     },
     "execution_count": 178,
     "metadata": {},
     "output_type": "execute_result"
    }
   ],
   "source": [
    "result"
   ]
  },
  {
   "cell_type": "code",
   "execution_count": 179,
   "metadata": {},
   "outputs": [
    {
     "data": {
      "text/plain": [
       "array([[-1.36051114,  0.19344021, -0.56286351,  0.11066349],\n",
       "       [ 1.42363424, -1.86200857,  0.32712422,  0.42012482],\n",
       "       [-0.30665568, -0.18006625, -0.42489019, -0.50055957],\n",
       "       [-1.8097676 , -0.98166868,  1.06709952,  1.07992861]])"
      ]
     },
     "execution_count": 179,
     "metadata": {},
     "output_type": "execute_result"
    }
   ],
   "source": [
    "arr= np.random.randn(4,4)\n",
    "arr"
   ]
  },
  {
   "cell_type": "code",
   "execution_count": 183,
   "metadata": {},
   "outputs": [
    {
     "data": {
      "text/plain": [
       "array([[2., 4., 2., 4.],\n",
       "       [4., 2., 4., 4.],\n",
       "       [2., 2., 2., 2.],\n",
       "       [2., 2., 4., 4.]])"
      ]
     },
     "execution_count": 183,
     "metadata": {},
     "output_type": "execute_result"
    }
   ],
   "source": [
    "np.where(arr<0, 2., 4)"
   ]
  },
  {
   "cell_type": "code",
   "execution_count": 2,
   "metadata": {},
   "outputs": [],
   "source": [
    "from numpy.linalg import inv, qr"
   ]
  },
  {
   "cell_type": "code",
   "execution_count": 3,
   "metadata": {},
   "outputs": [],
   "source": [
    "X = np.random.randn(5, 5)"
   ]
  },
  {
   "cell_type": "code",
   "execution_count": 5,
   "metadata": {},
   "outputs": [
    {
     "data": {
      "text/plain": [
       "array([[ 1.62434536, -0.61175641, -0.52817175, -1.07296862,  0.86540763],\n",
       "       [-2.3015387 ,  1.74481176, -0.7612069 ,  0.3190391 , -0.24937038],\n",
       "       [ 1.46210794, -2.06014071, -0.3224172 , -0.38405435,  1.13376944],\n",
       "       [-1.09989127, -0.17242821, -0.87785842,  0.04221375,  0.58281521],\n",
       "       [-1.10061918,  1.14472371,  0.90159072,  0.50249434,  0.90085595]])"
      ]
     },
     "execution_count": 5,
     "metadata": {},
     "output_type": "execute_result"
    }
   ],
   "source": [
    "X"
   ]
  },
  {
   "cell_type": "code",
   "execution_count": 6,
   "metadata": {},
   "outputs": [],
   "source": [
    "mat = X.T.dot(X)"
   ]
  },
  {
   "cell_type": "code",
   "execution_count": 7,
   "metadata": {},
   "outputs": [
    {
     "data": {
      "text/plain": [
       "array([[12.49446123, -9.09185616,  0.39584582, -3.63816679,  2.00481704],\n",
       "       [-9.09185616,  9.0029176 ,  0.84261434,  2.57220296, -2.36951023],\n",
       "       [ 0.39584582,  0.84261434,  2.54585543,  0.86366923, -0.33223406],\n",
       "       [-3.63816679,  2.57220296,  0.86366923,  1.65482792, -0.96626539],\n",
       "       [ 2.00481704, -2.36951023, -0.33223406, -0.96626539,  3.24776411]])"
      ]
     },
     "execution_count": 7,
     "metadata": {},
     "output_type": "execute_result"
    }
   ],
   "source": [
    "mat"
   ]
  },
  {
   "cell_type": "code",
   "execution_count": 8,
   "metadata": {},
   "outputs": [
    {
     "data": {
      "text/plain": [
       "array([[ 1.00000000e+00,  3.10894405e-14, -1.51548772e-15,\n",
       "         3.25954142e-15, -1.06751029e-14],\n",
       "       [-2.16088419e-14,  1.00000000e+00, -8.85562385e-16,\n",
       "         2.15386501e-14, -9.25663054e-15],\n",
       "       [ 1.63502140e-14,  1.94539386e-15,  1.00000000e+00,\n",
       "         1.46910976e-14,  9.48529666e-16],\n",
       "       [-3.57589886e-14, -2.24033491e-14,  2.58358396e-14,\n",
       "         1.00000000e+00, -1.26456905e-14],\n",
       "       [ 1.26953520e-14,  1.51183967e-14, -2.36972791e-14,\n",
       "         3.56088606e-15,  1.00000000e+00]])"
      ]
     },
     "execution_count": 8,
     "metadata": {},
     "output_type": "execute_result"
    }
   ],
   "source": [
    "mat.dot(inv(mat))"
   ]
  },
  {
   "cell_type": "code",
   "execution_count": 9,
   "metadata": {},
   "outputs": [],
   "source": [
    "from random import normalvariate"
   ]
  },
  {
   "cell_type": "code",
   "execution_count": 10,
   "metadata": {},
   "outputs": [],
   "source": [
    "N = 1000000"
   ]
  },
  {
   "cell_type": "code",
   "execution_count": 11,
   "metadata": {},
   "outputs": [
    {
     "name": "stdout",
     "output_type": "stream",
     "text": [
      "1.06 s ± 52.5 ms per loop (mean ± std. dev. of 7 runs, 1 loop each)\n"
     ]
    }
   ],
   "source": [
    "%timeit samples = [normalvariate(0, 1) for _ in range(N)]"
   ]
  },
  {
   "cell_type": "code",
   "execution_count": 15,
   "metadata": {},
   "outputs": [
    {
     "name": "stdout",
     "output_type": "stream",
     "text": [
      "37.9 ms ± 548 µs per loop (mean ± std. dev. of 7 runs, 10 loops each)\n"
     ]
    }
   ],
   "source": [
    "%timeit np.random.normal(size=N)"
   ]
  },
  {
   "cell_type": "code",
   "execution_count": 24,
   "metadata": {},
   "outputs": [],
   "source": [
    "arr = np.random.randn(5, 3)"
   ]
  },
  {
   "cell_type": "code",
   "execution_count": 25,
   "metadata": {},
   "outputs": [
    {
     "data": {
      "text/plain": [
       "array([[ 0.96874888,  0.36727714,  0.76786608],\n",
       "       [ 0.41484366, -2.22414924, -0.18959091],\n",
       "       [ 0.82326312,  0.52343672,  0.90058386],\n",
       "       [-1.29243648,  0.00425843,  2.09007349],\n",
       "       [-0.08031217,  1.14910561, -1.20081433]])"
      ]
     },
     "execution_count": 25,
     "metadata": {},
     "output_type": "execute_result"
    }
   ],
   "source": [
    "arr"
   ]
  },
  {
   "cell_type": "code",
   "execution_count": 27,
   "metadata": {},
   "outputs": [
    {
     "data": {
      "text/plain": [
       "array([[ 0.36727714,  0.76786608],\n",
       "       [-2.22414924, -0.18959091],\n",
       "       [ 0.52343672,  0.90058386],\n",
       "       [ 0.00425843,  2.09007349],\n",
       "       [ 1.14910561, -1.20081433]])"
      ]
     },
     "execution_count": 27,
     "metadata": {},
     "output_type": "execute_result"
    }
   ],
   "source": [
    "np.hsplit(arr, [1])[1]"
   ]
  },
  {
   "cell_type": "code",
   "execution_count": 2,
   "metadata": {},
   "outputs": [
    {
     "data": {
      "text/plain": [
       "array([1, 2, 3, 4, 5, 6, 7])"
      ]
     },
     "execution_count": 2,
     "metadata": {},
     "output_type": "execute_result"
    }
   ],
   "source": [
    "arr= np.array([1,2,3,4,5,6,7])\n",
    "arr"
   ]
  },
  {
   "cell_type": "code",
   "execution_count": 3,
   "metadata": {},
   "outputs": [
    {
     "data": {
      "text/plain": [
       "[1, 2, 3, 4, 5, 6, 7]"
      ]
     },
     "execution_count": 3,
     "metadata": {},
     "output_type": "execute_result"
    }
   ],
   "source": [
    "list(arr)"
   ]
  },
  {
   "cell_type": "code",
   "execution_count": 6,
   "metadata": {},
   "outputs": [
    {
     "data": {
      "text/plain": [
       "7"
      ]
     },
     "execution_count": 6,
     "metadata": {},
     "output_type": "execute_result"
    }
   ],
   "source": [
    "np.size(arr)"
   ]
  },
  {
   "cell_type": "code",
   "execution_count": 7,
   "metadata": {},
   "outputs": [
    {
     "data": {
      "text/plain": [
       "array([[0, 0],\n",
       "       [1, 2]])"
      ]
     },
     "execution_count": 7,
     "metadata": {},
     "output_type": "execute_result"
    }
   ],
   "source": [
    "a=np.array([0,1])\n",
    "b=np.array([0,2])\n",
    "np.column_stack((a,b))"
   ]
  },
  {
   "cell_type": "code",
   "execution_count": 9,
   "metadata": {},
   "outputs": [],
   "source": [
    "import numpy as np"
   ]
  },
  {
   "cell_type": "code",
   "execution_count": 31,
   "metadata": {},
   "outputs": [
    {
     "data": {
      "text/plain": [
       "array([[ 0,  1,  2,  3,  4,  5],\n",
       "       [ 6,  7,  8,  9, 10, 11],\n",
       "       [12, 13, 14, 15, 16, 17],\n",
       "       [18, 19, 20, 21, 22, 23],\n",
       "       [24, 25, 26, 27, 28, 29]])"
      ]
     },
     "execution_count": 31,
     "metadata": {},
     "output_type": "execute_result"
    }
   ],
   "source": [
    "arr= np.arange(30).reshape(5,-1)\n",
    "arr"
   ]
  },
  {
   "cell_type": "code",
   "execution_count": 19,
   "metadata": {},
   "outputs": [
    {
     "data": {
      "text/plain": [
       "array([ 0,  1,  2,  3,  4,  5,  6,  7,  8,  9, 10, 11, 12, 13, 14, 15, 16,\n",
       "       17, 18, 19, 20, 21, 22, 23, 24, 25, 26, 27, 28, 29])"
      ]
     },
     "execution_count": 19,
     "metadata": {},
     "output_type": "execute_result"
    }
   ],
   "source": [
    "arr"
   ]
  },
  {
   "cell_type": "code",
   "execution_count": 33,
   "metadata": {},
   "outputs": [
    {
     "data": {
      "text/plain": [
       "29"
      ]
     },
     "execution_count": 33,
     "metadata": {},
     "output_type": "execute_result"
    }
   ],
   "source": [
    "arr.max()"
   ]
  },
  {
   "cell_type": "code",
   "execution_count": 43,
   "metadata": {},
   "outputs": [
    {
     "data": {
      "text/plain": [
       "array(<built-in function max>, dtype=object)"
      ]
     },
     "execution_count": 43,
     "metadata": {},
     "output_type": "execute_result"
    }
   ],
   "source": [
    "np.array(max)"
   ]
  },
  {
   "cell_type": "code",
   "execution_count": 35,
   "metadata": {},
   "outputs": [
    {
     "data": {
      "text/plain": [
       "29"
      ]
     },
     "execution_count": 35,
     "metadata": {},
     "output_type": "execute_result"
    }
   ],
   "source": [
    "np.max(arr)"
   ]
  },
  {
   "cell_type": "code",
   "execution_count": 50,
   "metadata": {},
   "outputs": [],
   "source": [
    "a= np.arange(10).reshape(2,-1)"
   ]
  },
  {
   "cell_type": "code",
   "execution_count": 51,
   "metadata": {},
   "outputs": [],
   "source": [
    "b= np.repeat(1,10).reshape(2,-1)"
   ]
  },
  {
   "cell_type": "code",
   "execution_count": 52,
   "metadata": {},
   "outputs": [
    {
     "name": "stdout",
     "output_type": "stream",
     "text": [
      "[[0 1 2 3 4]\n",
      " [5 6 7 8 9]\n",
      " [1 1 1 1 1]\n",
      " [1 1 1 1 1]]\n",
      "[[0 1 2 3 4]\n",
      " [5 6 7 8 9]\n",
      " [1 1 1 1 1]\n",
      " [1 1 1 1 1]]\n",
      "[[0 1 2 3 4]\n",
      " [5 6 7 8 9]\n",
      " [1 1 1 1 1]\n",
      " [1 1 1 1 1]]\n"
     ]
    }
   ],
   "source": [
    "print(np.concatenate([a,b], axis=0))\n",
    "print(np.vstack([a,b]))\n",
    "print(np.r_[a,b])"
   ]
  },
  {
   "cell_type": "code",
   "execution_count": 68,
   "metadata": {},
   "outputs": [
    {
     "data": {
      "text/plain": [
       "array([[0, 1, 2],\n",
       "       [3, 4, 5],\n",
       "       [6, 7, 8]])"
      ]
     },
     "execution_count": 68,
     "metadata": {},
     "output_type": "execute_result"
    }
   ],
   "source": [
    "a=np.arange(9).reshape(3,-1)\n",
    "a"
   ]
  },
  {
   "cell_type": "code",
   "execution_count": 79,
   "metadata": {},
   "outputs": [
    {
     "data": {
      "text/plain": [
       "array([[ 0,  2,  4],\n",
       "       [ 6,  8, 10],\n",
       "       [12, 14, 16]])"
      ]
     },
     "execution_count": 79,
     "metadata": {},
     "output_type": "execute_result"
    }
   ],
   "source": [
    "b=np.arange(0,17,2).reshape(3,-1)\n",
    "b"
   ]
  },
  {
   "cell_type": "code",
   "execution_count": 82,
   "metadata": {},
   "outputs": [
    {
     "data": {
      "text/plain": [
       "array([[ 0,  2,  4,  6,  8, 10, 12, 14, 16]])"
      ]
     },
     "execution_count": 82,
     "metadata": {},
     "output_type": "execute_result"
    }
   ],
   "source": [
    "np.resize(b, (1,9))"
   ]
  },
  {
   "cell_type": "code",
   "execution_count": 80,
   "metadata": {},
   "outputs": [
    {
     "data": {
      "text/plain": [
       "array([[ 0,  1,  2,  0,  2,  4],\n",
       "       [ 3,  4,  5,  6,  8, 10],\n",
       "       [ 6,  7,  8, 12, 14, 16]])"
      ]
     },
     "execution_count": 80,
     "metadata": {},
     "output_type": "execute_result"
    }
   ],
   "source": [
    "np.concatenate([a,b], axis=1)"
   ]
  },
  {
   "cell_type": "code",
   "execution_count": 71,
   "metadata": {},
   "outputs": [
    {
     "data": {
      "text/plain": [
       "array([[[ 0,  9],\n",
       "        [ 1, 10],\n",
       "        [ 2, 11]],\n",
       "\n",
       "       [[ 3, 12],\n",
       "        [ 4, 13],\n",
       "        [ 5, 14]],\n",
       "\n",
       "       [[ 6, 15],\n",
       "        [ 7, 16],\n",
       "        [ 8, 17]]])"
      ]
     },
     "execution_count": 71,
     "metadata": {},
     "output_type": "execute_result"
    }
   ],
   "source": [
    "np.dstack((a,b))"
   ]
  },
  {
   "cell_type": "code",
   "execution_count": 60,
   "metadata": {},
   "outputs": [
    {
     "data": {
      "text/plain": [
       "array([[1, 2, 3, 1, 2, 3, 1, 1, 1]])"
      ]
     },
     "execution_count": 60,
     "metadata": {},
     "output_type": "execute_result"
    }
   ],
   "source": [
    "np.reshape([[1,2,3],[1,2,3],[1,1,1]], (1,9))"
   ]
  },
  {
   "cell_type": "code",
   "execution_count": 77,
   "metadata": {},
   "outputs": [
    {
     "ename": "ValueError",
     "evalue": "cannot reshape array of size 2 into shape (0,1,2,3,4,5,6,7,8)",
     "output_type": "error",
     "traceback": [
      "\u001b[1;31m---------------------------------------------------------------------------\u001b[0m",
      "\u001b[1;31mAttributeError\u001b[0m                            Traceback (most recent call last)",
      "\u001b[1;32m~\\Anaconda3\\lib\\site-packages\\numpy\\core\\fromnumeric.py\u001b[0m in \u001b[0;36m_wrapfunc\u001b[1;34m(obj, method, *args, **kwds)\u001b[0m\n\u001b[0;32m     55\u001b[0m     \u001b[1;32mtry\u001b[0m\u001b[1;33m:\u001b[0m\u001b[1;33m\u001b[0m\u001b[1;33m\u001b[0m\u001b[0m\n\u001b[1;32m---> 56\u001b[1;33m         \u001b[1;32mreturn\u001b[0m \u001b[0mgetattr\u001b[0m\u001b[1;33m(\u001b[0m\u001b[0mobj\u001b[0m\u001b[1;33m,\u001b[0m \u001b[0mmethod\u001b[0m\u001b[1;33m)\u001b[0m\u001b[1;33m(\u001b[0m\u001b[1;33m*\u001b[0m\u001b[0margs\u001b[0m\u001b[1;33m,\u001b[0m \u001b[1;33m**\u001b[0m\u001b[0mkwds\u001b[0m\u001b[1;33m)\u001b[0m\u001b[1;33m\u001b[0m\u001b[1;33m\u001b[0m\u001b[0m\n\u001b[0m\u001b[0;32m     57\u001b[0m \u001b[1;33m\u001b[0m\u001b[0m\n",
      "\u001b[1;31mAttributeError\u001b[0m: 'tuple' object has no attribute 'reshape'",
      "\nDuring handling of the above exception, another exception occurred:\n",
      "\u001b[1;31mValueError\u001b[0m                                Traceback (most recent call last)",
      "\u001b[1;32m<ipython-input-77-e07d1331a8db>\u001b[0m in \u001b[0;36m<module>\u001b[1;34m\u001b[0m\n\u001b[0;32m      1\u001b[0m \u001b[0marr\u001b[0m\u001b[1;33m=\u001b[0m \u001b[0mnp\u001b[0m\u001b[1;33m.\u001b[0m\u001b[0marange\u001b[0m\u001b[1;33m(\u001b[0m\u001b[1;36m9\u001b[0m\u001b[1;33m)\u001b[0m\u001b[1;33m\u001b[0m\u001b[1;33m\u001b[0m\u001b[0m\n\u001b[1;32m----> 2\u001b[1;33m \u001b[0mnp\u001b[0m\u001b[1;33m.\u001b[0m\u001b[0mreshape\u001b[0m\u001b[1;33m(\u001b[0m\u001b[1;33m(\u001b[0m\u001b[1;36m3\u001b[0m\u001b[1;33m,\u001b[0m\u001b[1;36m3\u001b[0m\u001b[1;33m)\u001b[0m\u001b[1;33m,\u001b[0m \u001b[0marr\u001b[0m\u001b[1;33m)\u001b[0m\u001b[1;33m\u001b[0m\u001b[1;33m\u001b[0m\u001b[0m\n\u001b[0m",
      "\u001b[1;32m~\\Anaconda3\\lib\\site-packages\\numpy\\core\\fromnumeric.py\u001b[0m in \u001b[0;36mreshape\u001b[1;34m(a, newshape, order)\u001b[0m\n\u001b[0;32m    290\u001b[0m            [5, 6]])\n\u001b[0;32m    291\u001b[0m     \"\"\"\n\u001b[1;32m--> 292\u001b[1;33m     \u001b[1;32mreturn\u001b[0m \u001b[0m_wrapfunc\u001b[0m\u001b[1;33m(\u001b[0m\u001b[0ma\u001b[0m\u001b[1;33m,\u001b[0m \u001b[1;34m'reshape'\u001b[0m\u001b[1;33m,\u001b[0m \u001b[0mnewshape\u001b[0m\u001b[1;33m,\u001b[0m \u001b[0morder\u001b[0m\u001b[1;33m=\u001b[0m\u001b[0morder\u001b[0m\u001b[1;33m)\u001b[0m\u001b[1;33m\u001b[0m\u001b[1;33m\u001b[0m\u001b[0m\n\u001b[0m\u001b[0;32m    293\u001b[0m \u001b[1;33m\u001b[0m\u001b[0m\n\u001b[0;32m    294\u001b[0m \u001b[1;33m\u001b[0m\u001b[0m\n",
      "\u001b[1;32m~\\Anaconda3\\lib\\site-packages\\numpy\\core\\fromnumeric.py\u001b[0m in \u001b[0;36m_wrapfunc\u001b[1;34m(obj, method, *args, **kwds)\u001b[0m\n\u001b[0;32m     64\u001b[0m     \u001b[1;31m# a downstream library like 'pandas'.\u001b[0m\u001b[1;33m\u001b[0m\u001b[1;33m\u001b[0m\u001b[1;33m\u001b[0m\u001b[0m\n\u001b[0;32m     65\u001b[0m     \u001b[1;32mexcept\u001b[0m \u001b[1;33m(\u001b[0m\u001b[0mAttributeError\u001b[0m\u001b[1;33m,\u001b[0m \u001b[0mTypeError\u001b[0m\u001b[1;33m)\u001b[0m\u001b[1;33m:\u001b[0m\u001b[1;33m\u001b[0m\u001b[1;33m\u001b[0m\u001b[0m\n\u001b[1;32m---> 66\u001b[1;33m         \u001b[1;32mreturn\u001b[0m \u001b[0m_wrapit\u001b[0m\u001b[1;33m(\u001b[0m\u001b[0mobj\u001b[0m\u001b[1;33m,\u001b[0m \u001b[0mmethod\u001b[0m\u001b[1;33m,\u001b[0m \u001b[1;33m*\u001b[0m\u001b[0margs\u001b[0m\u001b[1;33m,\u001b[0m \u001b[1;33m**\u001b[0m\u001b[0mkwds\u001b[0m\u001b[1;33m)\u001b[0m\u001b[1;33m\u001b[0m\u001b[1;33m\u001b[0m\u001b[0m\n\u001b[0m\u001b[0;32m     67\u001b[0m \u001b[1;33m\u001b[0m\u001b[0m\n\u001b[0;32m     68\u001b[0m \u001b[1;33m\u001b[0m\u001b[0m\n",
      "\u001b[1;32m~\\Anaconda3\\lib\\site-packages\\numpy\\core\\fromnumeric.py\u001b[0m in \u001b[0;36m_wrapit\u001b[1;34m(obj, method, *args, **kwds)\u001b[0m\n\u001b[0;32m     44\u001b[0m     \u001b[1;32mexcept\u001b[0m \u001b[0mAttributeError\u001b[0m\u001b[1;33m:\u001b[0m\u001b[1;33m\u001b[0m\u001b[1;33m\u001b[0m\u001b[0m\n\u001b[0;32m     45\u001b[0m         \u001b[0mwrap\u001b[0m \u001b[1;33m=\u001b[0m \u001b[1;32mNone\u001b[0m\u001b[1;33m\u001b[0m\u001b[1;33m\u001b[0m\u001b[0m\n\u001b[1;32m---> 46\u001b[1;33m     \u001b[0mresult\u001b[0m \u001b[1;33m=\u001b[0m \u001b[0mgetattr\u001b[0m\u001b[1;33m(\u001b[0m\u001b[0masarray\u001b[0m\u001b[1;33m(\u001b[0m\u001b[0mobj\u001b[0m\u001b[1;33m)\u001b[0m\u001b[1;33m,\u001b[0m \u001b[0mmethod\u001b[0m\u001b[1;33m)\u001b[0m\u001b[1;33m(\u001b[0m\u001b[1;33m*\u001b[0m\u001b[0margs\u001b[0m\u001b[1;33m,\u001b[0m \u001b[1;33m**\u001b[0m\u001b[0mkwds\u001b[0m\u001b[1;33m)\u001b[0m\u001b[1;33m\u001b[0m\u001b[1;33m\u001b[0m\u001b[0m\n\u001b[0m\u001b[0;32m     47\u001b[0m     \u001b[1;32mif\u001b[0m \u001b[0mwrap\u001b[0m\u001b[1;33m:\u001b[0m\u001b[1;33m\u001b[0m\u001b[1;33m\u001b[0m\u001b[0m\n\u001b[0;32m     48\u001b[0m         \u001b[1;32mif\u001b[0m \u001b[1;32mnot\u001b[0m \u001b[0misinstance\u001b[0m\u001b[1;33m(\u001b[0m\u001b[0mresult\u001b[0m\u001b[1;33m,\u001b[0m \u001b[0mmu\u001b[0m\u001b[1;33m.\u001b[0m\u001b[0mndarray\u001b[0m\u001b[1;33m)\u001b[0m\u001b[1;33m:\u001b[0m\u001b[1;33m\u001b[0m\u001b[1;33m\u001b[0m\u001b[0m\n",
      "\u001b[1;31mValueError\u001b[0m: cannot reshape array of size 2 into shape (0,1,2,3,4,5,6,7,8)"
     ]
    }
   ],
   "source": [
    "arr= np.arange(9)\n",
    "np.reshape((3,3), arr)"
   ]
  },
  {
   "cell_type": "code",
   "execution_count": 66,
   "metadata": {},
   "outputs": [
    {
     "ename": "AttributeError",
     "evalue": "'numpy.ndarray' object has no attribute 'types'",
     "output_type": "error",
     "traceback": [
      "\u001b[1;31m---------------------------------------------------------------------------\u001b[0m",
      "\u001b[1;31mAttributeError\u001b[0m                            Traceback (most recent call last)",
      "\u001b[1;32m<ipython-input-66-d01925f3397a>\u001b[0m in \u001b[0;36m<module>\u001b[1;34m\u001b[0m\n\u001b[1;32m----> 1\u001b[1;33m \u001b[0marr\u001b[0m\u001b[1;33m.\u001b[0m\u001b[0mtypes\u001b[0m\u001b[1;33m(\u001b[0m\u001b[1;33m)\u001b[0m\u001b[1;33m\u001b[0m\u001b[1;33m\u001b[0m\u001b[0m\n\u001b[0m",
      "\u001b[1;31mAttributeError\u001b[0m: 'numpy.ndarray' object has no attribute 'types'"
     ]
    }
   ],
   "source": [
    "arr.types()"
   ]
  },
  {
   "cell_type": "code",
   "execution_count": 73,
   "metadata": {},
   "outputs": [
    {
     "data": {
      "text/plain": [
       "array(['a', 'b', 'c', 'd'], dtype='<U1')"
      ]
     },
     "execution_count": 73,
     "metadata": {},
     "output_type": "execute_result"
    }
   ],
   "source": [
    "np.unique(np.array(['a','b','d','d','c']))"
   ]
  },
  {
   "cell_type": "code",
   "execution_count": 78,
   "metadata": {},
   "outputs": [
    {
     "data": {
      "text/plain": [
       "array([9, 8, 7, 6, 5, 4, 3, 2, 1, 0])"
      ]
     },
     "execution_count": 78,
     "metadata": {},
     "output_type": "execute_result"
    }
   ],
   "source": [
    "np.arange(9, -1, -1)"
   ]
  },
  {
   "cell_type": "code",
   "execution_count": 83,
   "metadata": {},
   "outputs": [
    {
     "data": {
      "text/plain": [
       "array([ 67, -10, -22,   0,  12,  10])"
      ]
     },
     "execution_count": 83,
     "metadata": {},
     "output_type": "execute_result"
    }
   ],
   "source": [
    "arr= np.array([67.98, -10.24, -22.06, 0.5, 12.90, 10.10])\n",
    "arr.astype(np.int32)"
   ]
  },
  {
   "cell_type": "code",
   "execution_count": null,
   "metadata": {},
   "outputs": [],
   "source": [
    "a= np.arange(10)\n",
    "arr= a[]"
   ]
  }
 ],
 "metadata": {
  "kernelspec": {
   "display_name": "Python 3",
   "language": "python",
   "name": "python3"
  },
  "language_info": {
   "codemirror_mode": {
    "name": "ipython",
    "version": 3
   },
   "file_extension": ".py",
   "mimetype": "text/x-python",
   "name": "python",
   "nbconvert_exporter": "python",
   "pygments_lexer": "ipython3",
   "version": "3.7.4"
  }
 },
 "nbformat": 4,
 "nbformat_minor": 2
}
