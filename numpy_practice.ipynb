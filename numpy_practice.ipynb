{
 "cells": [
  {
   "cell_type": "code",
   "execution_count": 1,
   "metadata": {},
   "outputs": [],
   "source": [
    "l = range(1000000) "
   ]
  },
  {
   "cell_type": "code",
   "execution_count": 33,
   "metadata": {},
   "outputs": [],
   "source": [
    "import numpy as np #importing numpy and using np as alais"
   ]
  },
  {
   "cell_type": "code",
   "execution_count": 3,
   "metadata": {},
   "outputs": [],
   "source": [
    "d = np.arange(1000000) #creating a range of numbers"
   ]
  },
  {
   "cell_type": "code",
   "execution_count": 4,
   "metadata": {},
   "outputs": [
    {
     "name": "stdout",
     "output_type": "stream",
     "text": [
      "Wall time: 1.12 s\n"
     ]
    }
   ],
   "source": [
    "%time for i in range(10): x = [x*2 for x in l] #calculation time and comparing with normal python lists"
   ]
  },
  {
   "cell_type": "code",
   "execution_count": 5,
   "metadata": {},
   "outputs": [
    {
     "name": "stdout",
     "output_type": "stream",
     "text": [
      "Wall time: 31.2 ms\n"
     ]
    }
   ],
   "source": [
    "%time for i in range(10): d*2 #time complexity of normal python lists"
   ]
  },
  {
   "cell_type": "code",
   "execution_count": 6,
   "metadata": {},
   "outputs": [],
   "source": [
    "x = np.zeros((4,4)) #creating a 4 by 4 matrix of zeros"
   ]
  },
  {
   "cell_type": "code",
   "execution_count": 7,
   "metadata": {},
   "outputs": [
    {
     "data": {
      "text/plain": [
       "array([[0., 0., 0., 0.],\n",
       "       [0., 0., 0., 0.],\n",
       "       [0., 0., 0., 0.],\n",
       "       [0., 0., 0., 0.]])"
      ]
     },
     "execution_count": 7,
     "metadata": {},
     "output_type": "execute_result"
    }
   ],
   "source": [
    "x"
   ]
  },
  {
   "cell_type": "code",
   "execution_count": 8,
   "metadata": {},
   "outputs": [],
   "source": [
    "x1 = np.ones((4,4)) #creating a 4 by 4 matric of ones"
   ]
  },
  {
   "cell_type": "code",
   "execution_count": 9,
   "metadata": {},
   "outputs": [
    {
     "data": {
      "text/plain": [
       "array([[1., 1., 1., 1.],\n",
       "       [1., 1., 1., 1.],\n",
       "       [1., 1., 1., 1.],\n",
       "       [1., 1., 1., 1.]])"
      ]
     },
     "execution_count": 9,
     "metadata": {},
     "output_type": "execute_result"
    }
   ],
   "source": [
    "x1"
   ]
  },
  {
   "cell_type": "code",
   "execution_count": 10,
   "metadata": {},
   "outputs": [],
   "source": [
    "x2 = np.empty((7,7)) #Return a new array of given shape and type, without initializing entries."
   ]
  },
  {
   "cell_type": "markdown",
   "metadata": {},
   "source": [
    "\n",
    "1.Parameters\n",
    "\n",
    "    1.1. shapeint or tuple of int\n",
    "\n",
    "       1.1.1. Shape of the empty array, e.g., (2, 3) or 2.\n",
    "    1.2. dtypedata-type, optional\n",
    "\n",
    "        1.2.1. Desired output data-type for the array, e.g, numpy.int8. Default is numpy.float64.\n",
    "    1.3. order{‘C’, ‘F’}, optional, default: ‘C’\n",
    "\n",
    "        1.3.1. Whether to store multi-dimensional data in row-major (C-style) or column-major (Fortran-style) order in memory.\n",
    "\n",
    "2.Returns\n",
    "\n",
    "    2.1. outndarray\n",
    "\n",
    "        2.2. Array of uninitialized (arbitrary) data of the given shape, dtype, and order. Object arrays will be initialized to None.\n",
    "\n"
   ]
  },
  {
   "cell_type": "code",
   "execution_count": 11,
   "metadata": {},
   "outputs": [
    {
     "data": {
      "text/plain": [
       "array([[1.13815421e-311, 1.13813731e-311, 1.13815798e-311,\n",
       "        1.13815798e-311, 1.13815798e-311, 1.13815798e-311,\n",
       "        1.13815798e-311],\n",
       "       [1.13815798e-311, 1.13815798e-311, 1.13815798e-311,\n",
       "        1.13815798e-311, 1.13815798e-311, 1.13815798e-311,\n",
       "        1.13815798e-311],\n",
       "       [1.13815798e-311, 1.13815798e-311, 1.13815798e-311,\n",
       "        1.13815798e-311, 1.13815798e-311, 1.13815798e-311,\n",
       "        1.13815798e-311],\n",
       "       [1.13815798e-311, 1.13815798e-311, 1.13815798e-311,\n",
       "        1.13815798e-311, 1.13815798e-311, 1.13815798e-311,\n",
       "        1.13815790e-311],\n",
       "       [1.13815790e-311, 1.13815798e-311, 1.13815798e-311,\n",
       "        1.13815798e-311, 1.13815798e-311, 1.13815790e-311,\n",
       "        1.13815790e-311],\n",
       "       [1.13815790e-311, 1.13815790e-311, 1.13815790e-311,\n",
       "        1.13815790e-311, 1.13815798e-311, 1.13815798e-311,\n",
       "        1.13815798e-311],\n",
       "       [1.13815798e-311, 1.13815798e-311, 1.13815798e-311,\n",
       "        1.13815798e-311, 1.13815798e-311, 1.13815798e-311,\n",
       "        1.13815798e-311]])"
      ]
     },
     "execution_count": 11,
     "metadata": {},
     "output_type": "execute_result"
    }
   ],
   "source": [
    "x2"
   ]
  },
  {
   "cell_type": "code",
   "execution_count": 14,
   "metadata": {},
   "outputs": [],
   "source": [
    "x3 = np.arange(1,100,10) "
   ]
  },
  {
   "cell_type": "markdown",
   "metadata": {},
   "source": [
    "1. Return evenly spaced values within a given interval.\n",
    "\n",
    "2. Values are generated within the half-open interval [start, stop) (in other words, the interval including start but excluding stop). For integer arguments the function is equivalent to the Python built-in range function, but returns an ndarray rather than a list.\n",
    "\n",
    "3. When using a non-integer step, such as 0.1, the results will often not be consistent. It is better to use numpy.linspace for these cases."
   ]
  },
  {
   "cell_type": "markdown",
   "metadata": {},
   "source": [
    "\n",
    "1. Parameters\n",
    "\n",
    "    1.1. startnumber, optional\n",
    "\n",
    "        1.1.1. Start of interval. The interval includes this value. The default start value is 0.\n",
    "    1.2. stopnumber\n",
    "\n",
    "        1.2.1. End of interval. The interval does not include this value, except in some cases where step is not an integer and floating point round-off affects the length of out.\n",
    "    1.3. stepnumber, optional\n",
    "\n",
    "        1.3.1. Spacing between values. For any output out, this is the distance between two adjacent values, out[i+1] - out[i]. The default step size is 1. If step is specified as a position argument, start must also be given.\n",
    "    1.4. dtypedtype\n",
    "\n",
    "        1.4.1. The type of the output array. If dtype is not given, infer the data type from the other input arguments.\n",
    "\n",
    "2. Returns\n",
    "\n",
    "    2.1. arangendarray\n",
    "\n",
    "        2.1.1.  Array of evenly spaced values.\n",
    "\n",
    "        2.1.2. For floating point arguments, the length of the result is ceil((stop - start)/step). Because of floating point overflow, this rule may result in the last element of out being greater than stop.\n",
    "\n"
   ]
  },
  {
   "cell_type": "code",
   "execution_count": 15,
   "metadata": {},
   "outputs": [
    {
     "data": {
      "text/plain": [
       "array([ 1, 11, 21, 31, 41, 51, 61, 71, 81, 91])"
      ]
     },
     "execution_count": 15,
     "metadata": {},
     "output_type": "execute_result"
    }
   ],
   "source": [
    "x3"
   ]
  },
  {
   "cell_type": "code",
   "execution_count": 16,
   "metadata": {},
   "outputs": [
    {
     "data": {
      "text/plain": [
       "(10,)"
      ]
     },
     "execution_count": 16,
     "metadata": {},
     "output_type": "execute_result"
    }
   ],
   "source": [
    "x3.shape # return the shape of the matric in the form of the tuple"
   ]
  },
  {
   "cell_type": "code",
   "execution_count": 21,
   "metadata": {},
   "outputs": [],
   "source": [
    "x4 = np.zeros((10,6))"
   ]
  },
  {
   "cell_type": "code",
   "execution_count": 22,
   "metadata": {},
   "outputs": [
    {
     "data": {
      "text/plain": [
       "array([[0., 0., 0., 0., 0., 0.],\n",
       "       [0., 0., 0., 0., 0., 0.],\n",
       "       [0., 0., 0., 0., 0., 0.],\n",
       "       [0., 0., 0., 0., 0., 0.],\n",
       "       [0., 0., 0., 0., 0., 0.],\n",
       "       [0., 0., 0., 0., 0., 0.],\n",
       "       [0., 0., 0., 0., 0., 0.],\n",
       "       [0., 0., 0., 0., 0., 0.],\n",
       "       [0., 0., 0., 0., 0., 0.],\n",
       "       [0., 0., 0., 0., 0., 0.]])"
      ]
     },
     "execution_count": 22,
     "metadata": {},
     "output_type": "execute_result"
    }
   ],
   "source": [
    "x4"
   ]
  },
  {
   "cell_type": "code",
   "execution_count": null,
   "metadata": {},
   "outputs": [],
   "source": [
    "when you want to reshape the number of elements should remain the same."
   ]
  },
  {
   "cell_type": "code",
   "execution_count": 23,
   "metadata": {},
   "outputs": [
    {
     "data": {
      "text/plain": [
       "(10, 6)"
      ]
     },
     "execution_count": 23,
     "metadata": {},
     "output_type": "execute_result"
    }
   ],
   "source": [
    "x4.shape "
   ]
  },
  {
   "cell_type": "code",
   "execution_count": null,
   "metadata": {},
   "outputs": [],
   "source": [
    "#The example above returns (10, 6), which means that the array has 10 dimensions, and each dimension has 6 elements."
   ]
  },
  {
   "cell_type": "code",
   "execution_count": 26,
   "metadata": {},
   "outputs": [],
   "source": [
    "x = x4.reshape(20,3)"
   ]
  },
  {
   "cell_type": "markdown",
   "metadata": {},
   "source": [
    " 1. numpy.reshape(a, newshape, order='C')[source]\n",
    "\n",
    "    1.1. Gives a new shape to an array without changing its data.\n",
    "\n",
    "    1.2. Parameters\n",
    "\n",
    "        1. aarray_like\n",
    "\n",
    "            1.1. Array to be reshaped.\n",
    "        2. newshapeint or tuple of ints\n",
    "\n",
    "            2.1. The new shape should be compatible with the original shape. If an integer, then the result will be a 1-D array of that length. One shape dimension can be -1. In this case, the value is inferred from the length of the array and remaining dimensions.\n",
    "        3. order{‘C’, ‘F’, ‘A’}, optional\n",
    "\n",
    "            3.1. Read the elements of a using this index order, and place the elements into the reshaped array using this index order. ‘C’ means to read / write the elements using C-like index order, with the last axis index changing fastest, back to the first axis index changing slowest. ‘F’ means to read / write the elements using Fortran-like index order, with the first index changing fastest, and the last index changing slowest. Note that the ‘C’ and ‘F’ options take no account of the memory layout of the underlying array, and only refer to the order of indexing. ‘A’ means to read / write the elements in Fortran-like index order if a is Fortran contiguous in memory, C-like order otherwise.\n",
    "\n",
    "    1.3. Returns\n",
    "\n",
    "        1. reshaped_arrayndarray\n",
    "\n",
    "            1.1. This will be a new view object if possible; otherwise, it will be a copy. Note there is no guarantee of the memory layout (C- or Fortran- contiguous) of the returned array.\n",
    "\n"
   ]
  },
  {
   "cell_type": "code",
   "execution_count": 27,
   "metadata": {},
   "outputs": [
    {
     "data": {
      "text/plain": [
       "array([[0., 0., 0.],\n",
       "       [0., 0., 0.],\n",
       "       [0., 0., 0.],\n",
       "       [0., 0., 0.],\n",
       "       [0., 0., 0.],\n",
       "       [0., 0., 0.],\n",
       "       [0., 0., 0.],\n",
       "       [0., 0., 0.],\n",
       "       [0., 0., 0.],\n",
       "       [0., 0., 0.],\n",
       "       [0., 0., 0.],\n",
       "       [0., 0., 0.],\n",
       "       [0., 0., 0.],\n",
       "       [0., 0., 0.],\n",
       "       [0., 0., 0.],\n",
       "       [0., 0., 0.],\n",
       "       [0., 0., 0.],\n",
       "       [0., 0., 0.],\n",
       "       [0., 0., 0.],\n",
       "       [0., 0., 0.]])"
      ]
     },
     "execution_count": 27,
     "metadata": {},
     "output_type": "execute_result"
    }
   ],
   "source": [
    "x"
   ]
  },
  {
   "cell_type": "code",
   "execution_count": 28,
   "metadata": {},
   "outputs": [
    {
     "data": {
      "text/plain": [
       "(20, 3)"
      ]
     },
     "execution_count": 28,
     "metadata": {},
     "output_type": "execute_result"
    }
   ],
   "source": [
    "x.shape"
   ]
  },
  {
   "cell_type": "code",
   "execution_count": 30,
   "metadata": {},
   "outputs": [],
   "source": [
    "x = x.reshape(60,1)"
   ]
  },
  {
   "cell_type": "code",
   "execution_count": 31,
   "metadata": {},
   "outputs": [
    {
     "data": {
      "text/plain": [
       "array([[0.],\n",
       "       [0.],\n",
       "       [0.],\n",
       "       [0.],\n",
       "       [0.],\n",
       "       [0.],\n",
       "       [0.],\n",
       "       [0.],\n",
       "       [0.],\n",
       "       [0.],\n",
       "       [0.],\n",
       "       [0.],\n",
       "       [0.],\n",
       "       [0.],\n",
       "       [0.],\n",
       "       [0.],\n",
       "       [0.],\n",
       "       [0.],\n",
       "       [0.],\n",
       "       [0.],\n",
       "       [0.],\n",
       "       [0.],\n",
       "       [0.],\n",
       "       [0.],\n",
       "       [0.],\n",
       "       [0.],\n",
       "       [0.],\n",
       "       [0.],\n",
       "       [0.],\n",
       "       [0.],\n",
       "       [0.],\n",
       "       [0.],\n",
       "       [0.],\n",
       "       [0.],\n",
       "       [0.],\n",
       "       [0.],\n",
       "       [0.],\n",
       "       [0.],\n",
       "       [0.],\n",
       "       [0.],\n",
       "       [0.],\n",
       "       [0.],\n",
       "       [0.],\n",
       "       [0.],\n",
       "       [0.],\n",
       "       [0.],\n",
       "       [0.],\n",
       "       [0.],\n",
       "       [0.],\n",
       "       [0.],\n",
       "       [0.],\n",
       "       [0.],\n",
       "       [0.],\n",
       "       [0.],\n",
       "       [0.],\n",
       "       [0.],\n",
       "       [0.],\n",
       "       [0.],\n",
       "       [0.],\n",
       "       [0.]])"
      ]
     },
     "execution_count": 31,
     "metadata": {},
     "output_type": "execute_result"
    }
   ],
   "source": [
    "x"
   ]
  },
  {
   "cell_type": "code",
   "execution_count": 32,
   "metadata": {},
   "outputs": [
    {
     "data": {
      "text/plain": [
       "(60, 1)"
      ]
     },
     "execution_count": 32,
     "metadata": {},
     "output_type": "execute_result"
    }
   ],
   "source": [
    "x.shape"
   ]
  },
  {
   "cell_type": "code",
   "execution_count": 34,
   "metadata": {},
   "outputs": [],
   "source": [
    "a = np.random.randn((10))\n",
    "b = np.random.randn((10))"
   ]
  },
  {
   "cell_type": "markdown",
   "metadata": {},
   "source": [
    "1. Return a sample (or samples) from the “standard normal” distribution.\n",
    "\n",
    "2. If positive, int_like or int-convertible arguments are provided, randn generates an array of shape (d0, d1, ..., dn), filled with random floats sampled from a univariate “normal” (Gaussian) distribution of mean 0 and variance 1 (if any of the d_i are floats, they are first converted to integers by truncation). A single float randomly sampled from the distribution is returned if no argument is provided.\n",
    "\n",
    "3. This is a convenience function. If you want an interface that takes a tuple as the first argument, use "
   ]
  },
  {
   "cell_type": "code",
   "execution_count": 35,
   "metadata": {},
   "outputs": [
    {
     "data": {
      "text/plain": [
       "array([-0.23780186, -1.63938115,  0.41394069, -0.79549362,  0.25046646,\n",
       "       -0.06089542,  1.19451838, -0.9338649 ,  1.20040032,  0.95102002])"
      ]
     },
     "execution_count": 35,
     "metadata": {},
     "output_type": "execute_result"
    }
   ],
   "source": [
    "a"
   ]
  },
  {
   "cell_type": "code",
   "execution_count": 36,
   "metadata": {},
   "outputs": [
    {
     "data": {
      "text/plain": [
       "array([ 0.17072384,  1.36407116,  0.86530418, -1.85776542, -0.67969963,\n",
       "       -0.7600406 , -0.66169138, -1.59755971, -1.75210278,  0.53703372])"
      ]
     },
     "execution_count": 36,
     "metadata": {},
     "output_type": "execute_result"
    }
   ],
   "source": [
    "b"
   ]
  },
  {
   "cell_type": "code",
   "execution_count": 37,
   "metadata": {},
   "outputs": [
    {
     "data": {
      "text/plain": [
       "array([-0.06707802, -0.27530999,  1.27924487, -2.65325904, -0.42923317,\n",
       "       -0.82093602,  0.532827  , -2.53142461, -0.55170246,  1.48805373])"
      ]
     },
     "execution_count": 37,
     "metadata": {},
     "output_type": "execute_result"
    }
   ],
   "source": [
    "a+b"
   ]
  },
  {
   "cell_type": "code",
   "execution_count": 38,
   "metadata": {},
   "outputs": [
    {
     "data": {
      "text/plain": [
       "array([-0.04059845, -2.23623254,  0.35818461,  1.47784054, -0.17024196,\n",
       "        0.04628299, -0.79040252,  1.49190494, -2.10322474,  0.51072982])"
      ]
     },
     "execution_count": 38,
     "metadata": {},
     "output_type": "execute_result"
    }
   ],
   "source": [
    "a*b "
   ]
  },
  {
   "cell_type": "code",
   "execution_count": 39,
   "metadata": {},
   "outputs": [
    {
     "data": {
      "text/plain": [
       "array([-0.47560373, -3.2787623 ,  0.82788138, -1.59098724,  0.50093292,\n",
       "       -0.12179084,  2.38903676, -1.86772981,  2.40080064,  1.90204003])"
      ]
     },
     "execution_count": 39,
     "metadata": {},
     "output_type": "execute_result"
    }
   ],
   "source": [
    "a*2"
   ]
  },
  {
   "cell_type": "code",
   "execution_count": 40,
   "metadata": {},
   "outputs": [
    {
     "data": {
      "text/plain": [
       "array([-0.11890093, -0.81969057,  0.20697035, -0.39774681,  0.12523323,\n",
       "       -0.03044771,  0.59725919, -0.46693245,  0.60020016,  0.47551001])"
      ]
     },
     "execution_count": 40,
     "metadata": {},
     "output_type": "execute_result"
    }
   ],
   "source": [
    "a/2"
   ]
  },
  {
   "cell_type": "code",
   "execution_count": 41,
   "metadata": {},
   "outputs": [
    {
     "data": {
      "text/plain": [
       "array([False, False,  True, False,  True, False,  True, False,  True,\n",
       "        True])"
      ]
     },
     "execution_count": 41,
     "metadata": {},
     "output_type": "execute_result"
    }
   ],
   "source": [
    "a>0"
   ]
  },
  {
   "cell_type": "code",
   "execution_count": 42,
   "metadata": {},
   "outputs": [
    {
     "data": {
      "text/plain": [
       "array([ True,  True, False,  True, False,  True, False,  True, False,\n",
       "       False])"
      ]
     },
     "execution_count": 42,
     "metadata": {},
     "output_type": "execute_result"
    }
   ],
   "source": [
    "a<0"
   ]
  },
  {
   "cell_type": "code",
   "execution_count": 43,
   "metadata": {},
   "outputs": [
    {
     "data": {
      "text/plain": [
       "array([0.41394069, 0.25046646, 1.19451838, 1.20040032, 0.95102002])"
      ]
     },
     "execution_count": 43,
     "metadata": {},
     "output_type": "execute_result"
    }
   ],
   "source": [
    "a[a>0]"
   ]
  },
  {
   "cell_type": "code",
   "execution_count": 44,
   "metadata": {},
   "outputs": [
    {
     "data": {
      "text/plain": [
       "array([-1.63938115, -0.79549362, -0.06089542, -0.9338649 ])"
      ]
     },
     "execution_count": 44,
     "metadata": {},
     "output_type": "execute_result"
    }
   ],
   "source": [
    "a[[1,3,5,7]]"
   ]
  },
  {
   "cell_type": "code",
   "execution_count": 45,
   "metadata": {},
   "outputs": [
    {
     "data": {
      "text/plain": [
       "array([], dtype=float64)"
      ]
     },
     "execution_count": 45,
     "metadata": {},
     "output_type": "execute_result"
    }
   ],
   "source": [
    "a[1:10:-1]"
   ]
  },
  {
   "cell_type": "code",
   "execution_count": 46,
   "metadata": {},
   "outputs": [
    {
     "data": {
      "text/plain": [
       "array([-1.63938115,  0.41394069, -0.79549362,  0.25046646, -0.06089542,\n",
       "        1.19451838, -0.9338649 ,  1.20040032,  0.95102002])"
      ]
     },
     "execution_count": 46,
     "metadata": {},
     "output_type": "execute_result"
    }
   ],
   "source": [
    "a[1:10:1]"
   ]
  },
  {
   "cell_type": "code",
   "execution_count": 48,
   "metadata": {},
   "outputs": [],
   "source": [
    "x = np.random.randn(10,10)"
   ]
  },
  {
   "cell_type": "code",
   "execution_count": 49,
   "metadata": {},
   "outputs": [
    {
     "data": {
      "text/plain": [
       "array([[-2.41706885e+00,  5.63138357e-01,  7.71651060e-01,\n",
       "        -3.71688628e-01,  4.38249750e-01,  1.27045590e+00,\n",
       "         4.25645945e-01,  3.19376994e+00, -5.26733770e-01,\n",
       "        -2.31063739e-01],\n",
       "       [ 1.20223955e+00,  1.12211518e+00,  3.70958783e-01,\n",
       "        -4.02617372e-01, -5.61548248e-01, -1.15557134e+00,\n",
       "         5.97192311e-01,  9.63434212e-01,  1.27145514e-01,\n",
       "         1.91951444e+00],\n",
       "       [ 6.87668873e-01,  4.82738299e-01,  4.67171031e-01,\n",
       "        -8.26081033e-02, -4.65738166e-03, -7.12219818e-01,\n",
       "        -8.80145117e-01,  3.58207479e-01,  1.62563049e+00,\n",
       "         1.48652668e-01],\n",
       "       [ 2.66153302e+00, -7.89572806e-01,  1.40151999e+00,\n",
       "         4.25593360e-01,  9.37763604e-01,  8.57690962e-02,\n",
       "         3.25856840e-01, -3.08451589e-01, -8.41732792e-01,\n",
       "        -2.25499433e-01],\n",
       "       [-4.02509848e-02, -2.42530246e-01, -1.26611300e-01,\n",
       "        -2.32895578e-03,  4.79361279e-01,  1.43164303e+00,\n",
       "        -4.54521345e-01,  1.42397160e+00,  6.72229053e-01,\n",
       "         2.58864522e-01],\n",
       "       [ 1.75794575e+00,  2.10404806e+00, -4.86712385e-01,\n",
       "         4.05547051e-01, -8.08799431e-01,  2.90502164e-01,\n",
       "         1.47468044e-01,  7.13720249e-01, -1.75771454e+00,\n",
       "        -6.25006273e-01],\n",
       "       [ 1.01212664e+00,  8.32482768e-01, -4.26037551e-01,\n",
       "        -1.10281365e+00, -1.76123403e-01, -1.96742431e+00,\n",
       "         1.88902444e+00, -8.08678967e-01, -4.57697927e-02,\n",
       "         2.16258219e+00],\n",
       "       [-2.92534229e-01, -8.46627418e-01,  3.36248516e-01,\n",
       "        -8.94620823e-01,  1.37178965e+00,  5.04752907e-01,\n",
       "         1.08777302e+00, -1.09156585e+00,  2.03520787e-02,\n",
       "        -5.72604495e-01],\n",
       "       [ 2.05051331e+00, -8.91024794e-01, -4.70316498e-02,\n",
       "         1.83920797e+00, -1.53664786e-01, -2.44371469e-02,\n",
       "        -9.16448252e-01, -4.31966802e-01,  5.57105047e-01,\n",
       "         9.30460926e-02],\n",
       "       [ 1.81772722e+00, -8.30145067e-01, -5.78613145e-01,\n",
       "         6.86304985e-01,  2.07126548e+00, -1.41826688e+00,\n",
       "         7.25536751e-02,  9.87202390e-01, -1.08202584e+00,\n",
       "        -7.24533119e-01]])"
      ]
     },
     "execution_count": 49,
     "metadata": {},
     "output_type": "execute_result"
    }
   ],
   "source": [
    "x"
   ]
  },
  {
   "cell_type": "code",
   "execution_count": 50,
   "metadata": {},
   "outputs": [
    {
     "data": {
      "text/plain": [
       "array([ 1.20223955,  1.12211518,  0.37095878, -0.40261737, -0.56154825,\n",
       "       -1.15557134,  0.59719231,  0.96343421,  0.12714551,  1.91951444])"
      ]
     },
     "execution_count": 50,
     "metadata": {},
     "output_type": "execute_result"
    }
   ],
   "source": [
    "x[1]"
   ]
  },
  {
   "cell_type": "code",
   "execution_count": 51,
   "metadata": {},
   "outputs": [
    {
     "data": {
      "text/plain": [
       "-0.5615482475043837"
      ]
     },
     "execution_count": 51,
     "metadata": {},
     "output_type": "execute_result"
    }
   ],
   "source": [
    "x[1][4]"
   ]
  },
  {
   "cell_type": "code",
   "execution_count": 53,
   "metadata": {},
   "outputs": [
    {
     "data": {
      "text/plain": [
       "array([[-2.41706885e+00,  5.63138357e-01,  7.71651060e-01,\n",
       "        -3.71688628e-01,  4.38249750e-01,  1.27045590e+00,\n",
       "         4.25645945e-01,  3.19376994e+00, -5.26733770e-01,\n",
       "        -2.31063739e-01],\n",
       "       [ 6.87668873e-01,  4.82738299e-01,  4.67171031e-01,\n",
       "        -8.26081033e-02, -4.65738166e-03, -7.12219818e-01,\n",
       "        -8.80145117e-01,  3.58207479e-01,  1.62563049e+00,\n",
       "         1.48652668e-01],\n",
       "       [-4.02509848e-02, -2.42530246e-01, -1.26611300e-01,\n",
       "        -2.32895578e-03,  4.79361279e-01,  1.43164303e+00,\n",
       "        -4.54521345e-01,  1.42397160e+00,  6.72229053e-01,\n",
       "         2.58864522e-01],\n",
       "       [ 1.01212664e+00,  8.32482768e-01, -4.26037551e-01,\n",
       "        -1.10281365e+00, -1.76123403e-01, -1.96742431e+00,\n",
       "         1.88902444e+00, -8.08678967e-01, -4.57697927e-02,\n",
       "         2.16258219e+00],\n",
       "       [ 2.05051331e+00, -8.91024794e-01, -4.70316498e-02,\n",
       "         1.83920797e+00, -1.53664786e-01, -2.44371469e-02,\n",
       "        -9.16448252e-01, -4.31966802e-01,  5.57105047e-01,\n",
       "         9.30460926e-02]])"
      ]
     },
     "execution_count": 53,
     "metadata": {},
     "output_type": "execute_result"
    }
   ],
   "source": [
    "x[0:10:2]"
   ]
  },
  {
   "cell_type": "code",
   "execution_count": 54,
   "metadata": {},
   "outputs": [
    {
     "data": {
      "text/plain": [
       "array([[-2.41706885e+00,  5.63138357e-01,  7.71651060e-01,\n",
       "        -3.71688628e-01],\n",
       "       [ 1.20223955e+00,  1.12211518e+00,  3.70958783e-01,\n",
       "        -4.02617372e-01],\n",
       "       [ 6.87668873e-01,  4.82738299e-01,  4.67171031e-01,\n",
       "        -8.26081033e-02],\n",
       "       [ 2.66153302e+00, -7.89572806e-01,  1.40151999e+00,\n",
       "         4.25593360e-01],\n",
       "       [-4.02509848e-02, -2.42530246e-01, -1.26611300e-01,\n",
       "        -2.32895578e-03],\n",
       "       [ 1.75794575e+00,  2.10404806e+00, -4.86712385e-01,\n",
       "         4.05547051e-01],\n",
       "       [ 1.01212664e+00,  8.32482768e-01, -4.26037551e-01,\n",
       "        -1.10281365e+00],\n",
       "       [-2.92534229e-01, -8.46627418e-01,  3.36248516e-01,\n",
       "        -8.94620823e-01],\n",
       "       [ 2.05051331e+00, -8.91024794e-01, -4.70316498e-02,\n",
       "         1.83920797e+00],\n",
       "       [ 1.81772722e+00, -8.30145067e-01, -5.78613145e-01,\n",
       "         6.86304985e-01]])"
      ]
     },
     "execution_count": 54,
     "metadata": {},
     "output_type": "execute_result"
    }
   ],
   "source": [
    "x[::,0:4]"
   ]
  },
  {
   "cell_type": "code",
   "execution_count": 63,
   "metadata": {},
   "outputs": [],
   "source": [
    "ones = np.ones((4,4))"
   ]
  },
  {
   "cell_type": "code",
   "execution_count": null,
   "metadata": {},
   "outputs": [],
   "source": []
  },
  {
   "cell_type": "code",
   "execution_count": 64,
   "metadata": {},
   "outputs": [
    {
     "data": {
      "text/plain": [
       "array([[1., 1., 1., 1.],\n",
       "       [1., 1., 1., 1.],\n",
       "       [1., 1., 1., 1.],\n",
       "       [1., 1., 1., 1.]])"
      ]
     },
     "execution_count": 64,
     "metadata": {},
     "output_type": "execute_result"
    }
   ],
   "source": [
    "ones"
   ]
  },
  {
   "cell_type": "code",
   "execution_count": null,
   "metadata": {},
   "outputs": [],
   "source": []
  },
  {
   "cell_type": "code",
   "execution_count": 60,
   "metadata": {},
   "outputs": [],
   "source": [
    "ones[1:-1,1:-1]=0"
   ]
  },
  {
   "cell_type": "code",
   "execution_count": 61,
   "metadata": {},
   "outputs": [
    {
     "data": {
      "text/plain": [
       "array([[1., 1., 1., 1.],\n",
       "       [1., 0., 0., 1.],\n",
       "       [1., 0., 0., 1.],\n",
       "       [1., 1., 1., 1.]])"
      ]
     },
     "execution_count": 61,
     "metadata": {},
     "output_type": "execute_result"
    }
   ],
   "source": [
    "ones"
   ]
  },
  {
   "cell_type": "code",
   "execution_count": 71,
   "metadata": {},
   "outputs": [],
   "source": [
    "ones[0:4:2]=1"
   ]
  },
  {
   "cell_type": "code",
   "execution_count": 72,
   "metadata": {},
   "outputs": [
    {
     "data": {
      "text/plain": [
       "array([[1., 1., 1., 1.],\n",
       "       [0., 0., 0., 0.],\n",
       "       [1., 1., 1., 1.],\n",
       "       [0., 0., 0., 0.]])"
      ]
     },
     "execution_count": 72,
     "metadata": {},
     "output_type": "execute_result"
    }
   ],
   "source": [
    "ones"
   ]
  },
  {
   "cell_type": "code",
   "execution_count": 1,
   "metadata": {},
   "outputs": [],
   "source": [
    "import numpy as np\n",
    "np.random.seed(1)"
   ]
  },
  {
   "cell_type": "code",
   "execution_count": null,
   "metadata": {},
   "outputs": [],
   "source": [
    "#With the seed reset (every time), the same set of numbers will appear every time."
   ]
  },
  {
   "cell_type": "code",
   "execution_count": 2,
   "metadata": {},
   "outputs": [
    {
     "data": {
      "text/plain": [
       "array([[ 0.01624345, -0.00611756, -0.00528172, -0.01072969,  0.00865408],\n",
       "       [-0.02301539,  0.01744812, -0.00761207,  0.00319039, -0.0024937 ],\n",
       "       [ 0.01462108, -0.02060141, -0.00322417, -0.00384054,  0.01133769],\n",
       "       [-0.01099891, -0.00172428, -0.00877858,  0.00042214,  0.00582815],\n",
       "       [-0.01100619,  0.01144724,  0.00901591,  0.00502494,  0.00900856]])"
      ]
     },
     "execution_count": 2,
     "metadata": {},
     "output_type": "execute_result"
    }
   ],
   "source": [
    "np.random.randn(5,5)* 0.01"
   ]
  },
  {
   "cell_type": "code",
   "execution_count": 3,
   "metadata": {},
   "outputs": [
    {
     "data": {
      "text/plain": [
       "array([[0., 0., 0., 0., 0.],\n",
       "       [0., 0., 0., 0., 0.],\n",
       "       [0., 0., 0., 0., 0.],\n",
       "       [0., 0., 0., 0., 0.],\n",
       "       [0., 0., 0., 0., 0.]])"
      ]
     },
     "execution_count": 3,
     "metadata": {},
     "output_type": "execute_result"
    }
   ],
   "source": [
    "np.zeros((5,5))"
   ]
  },
  {
   "cell_type": "code",
   "execution_count": null,
   "metadata": {},
   "outputs": [],
   "source": []
  },
  {
   "cell_type": "code",
   "execution_count": null,
   "metadata": {},
   "outputs": [],
   "source": []
  },
  {
   "cell_type": "code",
   "execution_count": null,
   "metadata": {},
   "outputs": [],
   "source": []
  }
 ],
 "metadata": {
  "kernelspec": {
   "display_name": "Python 3",
   "language": "python",
   "name": "python3"
  },
  "language_info": {
   "codemirror_mode": {
    "name": "ipython",
    "version": 3
   },
   "file_extension": ".py",
   "mimetype": "text/x-python",
   "name": "python",
   "nbconvert_exporter": "python",
   "pygments_lexer": "ipython3",
   "version": "3.7.4"
  }
 },
 "nbformat": 4,
 "nbformat_minor": 2
}
